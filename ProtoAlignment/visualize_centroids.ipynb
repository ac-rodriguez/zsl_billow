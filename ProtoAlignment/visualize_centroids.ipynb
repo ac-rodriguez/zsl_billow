{
 "cells": [
  {
   "cell_type": "code",
   "execution_count": null,
   "id": "norwegian-champion",
   "metadata": {},
   "outputs": [],
   "source": [
    "%matplotlib inline\n",
    "from matplotlib import pyplot as plt\n",
    "from matplotlib import image\n",
    "# import cv2 as cv\n",
    "import numpy as np\n",
    "from glob import glob\n",
    "import ast\n",
    "import pandas as pd\n",
    "\n",
    "import torch"
   ]
  },
  {
   "cell_type": "code",
   "execution_count": null,
   "id": "dc9968a9",
   "metadata": {},
   "outputs": [],
   "source": [
    "\n",
    "# path_checkpoint = '/home/pf/pfstaff/projects/andresrobirds/DA_baseline/logs/version_220303_16490/checkpoint_last.pth.tar'\n",
    "\n",
    "# path_checkpoint = '/scratch/andresro/leon_work/birds/DA_baseline/logs_feb25_replicas/version_220303_20050/checkpoint.pth.tar'\n",
    "\n",
    "path_checkpoint = '/scratch/andresro/leon_work/birds/DA_baseline/logs_feb25_replicas/version_220303_19580/checkpoint_last.pth.tar'\n"
   ]
  },
  {
   "cell_type": "code",
   "execution_count": null,
   "id": "3ae7e577",
   "metadata": {},
   "outputs": [],
   "source": [
    "checkpoint = torch.load(path_checkpoint, map_location=\"cpu\")"
   ]
  },
  {
   "cell_type": "code",
   "execution_count": null,
   "id": "22e7364e",
   "metadata": {},
   "outputs": [],
   "source": [
    "checkpoint.keys()"
   ]
  },
  {
   "cell_type": "code",
   "execution_count": null,
   "id": "e49a63d6",
   "metadata": {},
   "outputs": [],
   "source": [
    "checkpoint['config']"
   ]
  },
  {
   "cell_type": "code",
   "execution_count": null,
   "id": "3332bb1a",
   "metadata": {},
   "outputs": [],
   "source": [
    "source = checkpoint['source_centroids'].as_tensor()\n",
    "target = checkpoint['target_centroids'].as_tensor()\n",
    "\n",
    "seen_classes = checkpoint['seen_classes']\n",
    "unseen_classes = checkpoint['unseen_classes']\n",
    "\n",
    "checkpoint['epoch']"
   ]
  },
  {
   "cell_type": "code",
   "execution_count": null,
   "id": "c69a31c6",
   "metadata": {},
   "outputs": [],
   "source": [
    "source.shape"
   ]
  },
  {
   "cell_type": "code",
   "execution_count": null,
   "id": "e4d93d79",
   "metadata": {},
   "outputs": [],
   "source": [
    "target.shape"
   ]
  },
  {
   "cell_type": "code",
   "execution_count": null,
   "id": "cbe2c10a",
   "metadata": {},
   "outputs": [],
   "source": []
  },
  {
   "cell_type": "code",
   "execution_count": null,
   "id": "24c08d99",
   "metadata": {},
   "outputs": [],
   "source": [
    "import torch.nn.functional as F\n",
    "plt.subplot(221)\n",
    "plt.title('source seen')\n",
    "plt.hist(F.linear(source[seen_classes].mean(axis=0), source[seen_classes]).numpy())\n",
    "\n",
    "plt.subplot(222)\n",
    "plt.title('source Unseen')\n",
    "plt.hist(F.linear(source[unseen_classes].mean(axis=0), source[unseen_classes]).numpy())\n",
    "\n",
    "plt.subplot(223)\n",
    "plt.title('target Seen')\n",
    "plt.hist(F.linear(target[seen_classes].mean(axis=0), target[seen_classes]).numpy())"
   ]
  },
  {
   "cell_type": "code",
   "execution_count": null,
   "id": "a22e6dbe",
   "metadata": {},
   "outputs": [],
   "source": [
    "C = torch.einsum('id,jd->ij', source, source)\n",
    "\n",
    "_ = plt.hist(C.flatten(), bins=100)\n",
    "\n"
   ]
  },
  {
   "cell_type": "code",
   "execution_count": null,
   "id": "centered-compression",
   "metadata": {},
   "outputs": [],
   "source": [
    "import torch.nn.functional as F\n",
    "plt.subplot(221)\n",
    "plt.title('source all vs all')\n",
    "C = torch.einsum('id,jd->ij', source, source).view(-1)\n",
    "_ = plt.hist(C, bins=100)\n",
    "# _ = plt.hist(angles_source)\n",
    "\n",
    "plt.subplot(222)\n",
    "plt.title('source seen vs seen')\n",
    "C = torch.einsum('id,jd->ij', source[seen_classes], source[seen_classes]).view(-1)\n",
    "_ = plt.hist(C, bins=100)\n",
    "\n",
    "plt.subplot(223)\n",
    "plt.title('source seen vs seen')\n",
    "C = torch.einsum('id,jd->ij', source[seen_classes], source[seen_classes]).view(-1)\n",
    "_ = plt.hist(C, bins=100)\n",
    "\n"
   ]
  },
  {
   "cell_type": "code",
   "execution_count": null,
   "id": "d1f268c4",
   "metadata": {},
   "outputs": [],
   "source": [
    "\n",
    "f, axs = plt.subplots(4,4, sharex=True, sharey=True, figsize=(10,10))\n",
    "\n",
    "vectorsA = [source, source[seen_classes], source[unseen_classes],target[seen_classes]]\n",
    "\n",
    "names = ['Source','Source Seen','Source Unseen','Target Seen']\n",
    "\n",
    "for i,A in enumerate(vectorsA):\n",
    "\n",
    "    axs[i,0].set_ylabel(names[i])\n",
    "    for j,B in enumerate(vectorsA[:i+1]):\n",
    "        if i == 3:\n",
    "            axs[i,j].set_xlabel(names[j])\n",
    "\n",
    "        ax = axs[i,j]\n",
    "        # ax.set_title(f'{i}{j}')\n",
    "        C = torch.einsum('id,jd->ij', A, B).view(-1)\n",
    "\n",
    "        print(f'{names[i]} \\t {names[j]} \\t mean (std) \\t {C.mean():.3f} ({C.std():.3f})')\n",
    "        _ = ax.hist(C,bins=50, density=True, alpha = 1.0)\n",
    "# axs[0,1].set_ylabel('---')\n",
    "    "
   ]
  },
  {
   "cell_type": "code",
   "execution_count": null,
   "id": "c6c3f23f",
   "metadata": {},
   "outputs": [],
   "source": [
    "def norm_angle(a,a_min=None, a_max= None):\n",
    "    if a_min is None:\n",
    "        a_min = a.min()\n",
    "    if a_max is None:\n",
    "        a_max = a.max()\n",
    "    a = (a+np.abs(a_min) )  / (a_max-a_min)\n",
    "    a = 2*a  - 1\n",
    "    a = a*np.pi\n",
    "\n",
    "    return a\n",
    "\n"
   ]
  },
  {
   "cell_type": "code",
   "execution_count": null,
   "id": "german-reason",
   "metadata": {},
   "outputs": [],
   "source": [
    "\n",
    "f, axs = plt.subplots(2,2, sharex=True, sharey=True)\n",
    "\n",
    "\n",
    "ax = axs[0,0]\n",
    "ax.set_title('source seen')\n",
    "# angles_source = F.linear(source[0], source[seen_classes]).numpy()\n",
    "a = torch.einsum('id,jd->ij', source, source[seen_classes]).view(-1)\n",
    "a = norm_angle(a)\n",
    "\n",
    "x1 = np.cos(a)\n",
    "x2 = np.sin(a)\n",
    "ax.scatter(x1,x2)\n",
    "\n",
    "ax = axs[0,1]\n",
    "ax.set_title('source unseen')\n",
    "a = torch.einsum('id,jd->ij', source, source[unseen_classes]).view(-1)\n",
    "a = norm_angle(a)\n",
    "\n",
    "x1 = np.cos(a)\n",
    "x2 = np.sin(a)\n",
    "ax.scatter(x1,x2)\n",
    "\n",
    "\n",
    "ax = axs[1,0]\n",
    "ax.set_title('target seen')\n",
    "a = torch.einsum('id,jd->ij', target, source[seen_classes]).view(-1)\n",
    "a = norm_angle(a)\n",
    "\n",
    "x1 = np.cos(a)\n",
    "x2 = np.sin(a)\n",
    "ax.scatter(x1,x2)\n",
    "\n",
    "\n",
    "for ax in axs.flatten():\n",
    "#     # ax.set_xlim(0,1.1)\n",
    "\n",
    "    ax.set_xlim(-1.1,1.1)\n",
    "    ax.set_ylim(-1.1,1.1)\n",
    "    ax.set_aspect('equal')\n",
    "#     # ax.axis('off')\n",
    "#     pass"
   ]
  },
  {
   "cell_type": "code",
   "execution_count": null,
   "id": "24c08d99",
   "metadata": {},
   "outputs": [],
   "source": [
    "import torch.nn.functional as F\n",
    "\n",
    "\n",
    "plt.hist(F.linear(source[0], source).numpy())"
   ]
  },
  {
   "cell_type": "code",
   "execution_count": null,
   "id": "a8cb5017",
   "metadata": {},
   "outputs": [],
   "source": []
  }
 ],
 "metadata": {
  "interpreter": {
   "hash": "4a33045f567d412c323124e7cd136ce521dcc9e2e06b9e7899c81f90e5a83771"
  },
  "kernelspec": {
   "display_name": "Python 3.8.11 64-bit ('pytorch19': conda)",
   "name": "python3"
  },
  "language_info": {
   "codemirror_mode": {
    "name": "ipython",
    "version": 3
   },
   "file_extension": ".py",
   "mimetype": "text/x-python",
   "name": "python",
   "nbconvert_exporter": "python",
   "pygments_lexer": "ipython3",
   "version": "3.8.11"
  }
 },
 "nbformat": 4,
 "nbformat_minor": 5
}
