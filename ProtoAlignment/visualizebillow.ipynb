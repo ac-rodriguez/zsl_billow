{
 "cells": [
  {
   "cell_type": "code",
   "execution_count": null,
   "id": "unlike-wallace",
   "metadata": {},
   "outputs": [],
   "source": [
    "%matplotlib inline\n",
    "from matplotlib import pyplot as plt\n",
    "from matplotlib import image\n",
    "# import cv2 as cv\n",
    "import numpy as np\n",
    "from glob import glob\n",
    "import ast\n",
    "import pandas as pd"
   ]
  },
  {
   "cell_type": "code",
   "execution_count": null,
   "id": "2995f321",
   "metadata": {},
   "outputs": [],
   "source": [
    "import dataloaders_billow\n",
    "\n",
    "data = dataloaders_billow.H5Dataset_billow_cub(is_flip_channels=True)"
   ]
  },
  {
   "cell_type": "code",
   "execution_count": null,
   "id": "abcc3d23",
   "metadata": {},
   "outputs": [],
   "source": [
    "data[0]"
   ]
  },
  {
   "cell_type": "code",
   "execution_count": null,
   "id": "9add7750",
   "metadata": {},
   "outputs": [],
   "source": [
    "df = pd.read_csv('/home/pf/pfstaff/projects/andresro/birds/dataset/keypoints_illustrations.csv', converters={'0':ast.literal_eval,'1':ast.literal_eval,'2':ast.literal_eval,'3':ast.literal_eval}, index_col=0)\n",
    "\n",
    "df"
   ]
  },
  {
   "cell_type": "code",
   "execution_count": null,
   "id": "clear-peninsula",
   "metadata": {},
   "outputs": [],
   "source": [
    "import dataloaders_billow\n",
    "\n",
    "transform = dataloaders_billow.data_transforms(params={'dataset':'billow_cub','std_norm':0.5,'img_size':256}, transform_type='nocrop_train')\n",
    "\n",
    "data_billow = dataloaders_billow.H5Dataset_billow_cub() # transform=transform)"
   ]
  },
  {
   "cell_type": "code",
   "execution_count": null,
   "id": "broad-commercial",
   "metadata": {},
   "outputs": [],
   "source": [
    "import dataloaders_billow\n",
    "\n",
    "transform_cub = dataloaders_billow.data_transforms(params={'dataset':'billow_cub','std_norm':0.5,'img_size':256}, transform_type='train')\n",
    "\n",
    "data_cub = dataloaders_billow.Birds(datasplit='train') # ,transform=transform_cub)"
   ]
  },
  {
   "cell_type": "code",
   "execution_count": null,
   "id": "eb4390bc",
   "metadata": {},
   "outputs": [],
   "source": [
    "## compute mean and std of train set\n",
    "\n",
    "xsum = []\n",
    "x2sum = []\n",
    "n = 0\n",
    "for sample in data_cub:\n",
    "\n",
    "    x = np.array(sample['x0']) / 255\n",
    "    xsum.append(x.sum(axis=(0,1)))\n",
    "    x2sum.append((x**2).sum(axis=(0,1)))\n",
    "    n += np.prod(x.shape[:2])\n",
    "\n"
   ]
  },
  {
   "cell_type": "code",
   "execution_count": null,
   "id": "852d2b3c",
   "metadata": {},
   "outputs": [],
   "source": [
    "xsum = np.stack(xsum).sum(axis=0)\n",
    "x2sum = np.stack(x2sum).sum(axis=0)"
   ]
  },
  {
   "cell_type": "code",
   "execution_count": null,
   "id": "775f678b",
   "metadata": {},
   "outputs": [],
   "source": [
    "mean = xsum / n\n",
    "var = x2sum / n - mean **2\n",
    "std = np.sqrt(var)\n",
    "\n",
    "mean, std"
   ]
  },
  {
   "cell_type": "code",
   "execution_count": null,
   "id": "eb4390bc",
   "metadata": {},
   "outputs": [],
   "source": [
    "## compute mean and std of train set\n",
    "\n",
    "xsum = []\n",
    "x2sum = []\n",
    "n = 0\n",
    "for sample in data_billow:\n",
    "\n",
    "    x = np.array(sample['x0']) / 255\n",
    "    xsum.append(x.sum(axis=(0,1)))\n",
    "    x2sum.append((x**2).sum(axis=(0,1)))\n",
    "    n += np.prod(x.shape[:2])\n",
    "\n"
   ]
  },
  {
   "cell_type": "code",
   "execution_count": null,
   "id": "852d2b3c",
   "metadata": {},
   "outputs": [],
   "source": [
    "xsum = np.stack(xsum).sum(axis=0)\n",
    "x2sum = np.stack(x2sum).sum(axis=0)"
   ]
  },
  {
   "cell_type": "code",
   "execution_count": null,
   "id": "775f678b",
   "metadata": {},
   "outputs": [],
   "source": [
    "mean = xsum / n\n",
    "var = x2sum / n - mean **2\n",
    "std = np.sqrt(var)\n",
    "\n",
    "mean, std"
   ]
  },
  {
   "cell_type": "code",
   "execution_count": null,
   "id": "87a7fcfa",
   "metadata": {},
   "outputs": [],
   "source": [
    "def un_normalize(x, mean=(0.485, 0.456, 0.406), std=(0.229, 0.224, 0.225) ):\n",
    "    return x * std + mean"
   ]
  },
  {
   "cell_type": "code",
   "execution_count": null,
   "id": "28f21327",
   "metadata": {},
   "outputs": [],
   "source": [
    "\n",
    "sample = data_billow[10]\n",
    "x = np.array(sample[\"x0\"])\n",
    "plt.imshow(x)  # [:,:,[2,1,0]])"
   ]
  },
  {
   "cell_type": "code",
   "execution_count": null,
   "id": "3d9c1366",
   "metadata": {},
   "outputs": [],
   "source": [
    "x1 = un_normalize(x)\n",
    "\n",
    "plt.imshow(x1)"
   ]
  },
  {
   "cell_type": "code",
   "execution_count": null,
   "id": "92129dc8",
   "metadata": {},
   "outputs": [],
   "source": [
    "x1.min(),x1.max()"
   ]
  },
  {
   "cell_type": "code",
   "execution_count": null,
   "id": "7afa5119",
   "metadata": {},
   "outputs": [],
   "source": [
    "from dataloaders_billow import transforms, ResizeNoCrop\n",
    "\n",
    "transforms.ToTensor()(x).max()"
   ]
  },
  {
   "cell_type": "code",
   "execution_count": null,
   "id": "1b6de530",
   "metadata": {},
   "outputs": [],
   "source": [
    "img = ResizeNoCrop(size=256)(sample['x0'])\n",
    "# img = sample['x0']\n",
    "print(img.size)\n",
    "img"
   ]
  },
  {
   "cell_type": "code",
   "execution_count": null,
   "id": "28f21327",
   "metadata": {},
   "outputs": [],
   "source": [
    "\n",
    "sample = data_cub[400]\n",
    "x = np.array(sample[\"x0\"])\n",
    "# x1 = un_normalize(x)\n",
    "x1 = x\n",
    "plt.imshow(x1)  # [:,:,[2,1,0]])"
   ]
  },
  {
   "cell_type": "code",
   "execution_count": null,
   "id": "2640ee82",
   "metadata": {},
   "outputs": [],
   "source": [
    "x.mean(axis=(0,1))"
   ]
  },
  {
   "cell_type": "code",
   "execution_count": null,
   "id": "ffc9cb11",
   "metadata": {},
   "outputs": [],
   "source": [
    "x.shape"
   ]
  },
  {
   "cell_type": "code",
   "execution_count": null,
   "id": "3c99888b",
   "metadata": {},
   "outputs": [],
   "source": [
    "256 / 500"
   ]
  },
  {
   "cell_type": "code",
   "execution_count": null,
   "id": "47bac945",
   "metadata": {},
   "outputs": [],
   "source": [
    "plt.imshow(x1)"
   ]
  },
  {
   "cell_type": "code",
   "execution_count": null,
   "id": "3ecf40c4",
   "metadata": {},
   "outputs": [],
   "source": []
  }
 ],
 "metadata": {
  "interpreter": {
   "hash": "4a33045f567d412c323124e7cd136ce521dcc9e2e06b9e7899c81f90e5a83771"
  },
  "kernelspec": {
   "display_name": "Python 3.8.11 64-bit ('pytorch19': conda)",
   "name": "python3"
  },
  "language_info": {
   "codemirror_mode": {
    "name": "ipython",
    "version": 3
   },
   "file_extension": ".py",
   "mimetype": "text/x-python",
   "name": "python",
   "nbconvert_exporter": "python",
   "pygments_lexer": "ipython3",
   "version": "3.8.11"
  }
 },
 "nbformat": 4,
 "nbformat_minor": 5
}
