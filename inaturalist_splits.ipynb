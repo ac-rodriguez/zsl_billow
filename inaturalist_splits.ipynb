{
 "cells": [
  {
   "cell_type": "code",
   "execution_count": 1,
   "id": "d8eee527",
   "metadata": {},
   "outputs": [],
   "source": [
    "import numpy as np\n",
    "import scipy.io as sio\n",
    "import json\n",
    "import csv\n",
    "import pandas as pd"
   ]
  },
  {
   "cell_type": "code",
   "execution_count": 2,
   "id": "5c743f73",
   "metadata": {},
   "outputs": [
    {
     "name": "stdout",
     "output_type": "stream",
     "text": [
      "(10721, 9)\n"
     ]
    }
   ],
   "source": [
    "filename = 'species_list.csv'\n",
    "\n",
    "df_species = pd.read_csv(filename, index_col=0)\n",
    "    \n",
    "print(df_species.shape)"
   ]
  },
  {
   "cell_type": "code",
   "execution_count": 3,
   "id": "31afa6ee",
   "metadata": {},
   "outputs": [
    {
     "data": {
      "text/html": [
       "<div>\n",
       "<style scoped>\n",
       "    .dataframe tbody tr th:only-of-type {\n",
       "        vertical-align: middle;\n",
       "    }\n",
       "\n",
       "    .dataframe tbody tr th {\n",
       "        vertical-align: top;\n",
       "    }\n",
       "\n",
       "    .dataframe thead th {\n",
       "        text-align: right;\n",
       "    }\n",
       "</style>\n",
       "<table border=\"1\" class=\"dataframe\">\n",
       "  <thead>\n",
       "    <tr style=\"text-align: right;\">\n",
       "      <th></th>\n",
       "      <th>order</th>\n",
       "      <th>family_name</th>\n",
       "      <th>family_description</th>\n",
       "      <th>family_code</th>\n",
       "      <th>code</th>\n",
       "      <th>com_name</th>\n",
       "      <th>sci_name</th>\n",
       "      <th>genus</th>\n",
       "      <th>species</th>\n",
       "    </tr>\n",
       "  </thead>\n",
       "  <tbody>\n",
       "    <tr>\n",
       "      <th>0</th>\n",
       "      <td>Struthioniformes</td>\n",
       "      <td>Struthionidae</td>\n",
       "      <td>Ostriches</td>\n",
       "      <td>struth1</td>\n",
       "      <td>ostric2</td>\n",
       "      <td>Common Ostrich</td>\n",
       "      <td>Struthio camelus</td>\n",
       "      <td>Struthio</td>\n",
       "      <td>camelus</td>\n",
       "    </tr>\n",
       "    <tr>\n",
       "      <th>1</th>\n",
       "      <td>Struthioniformes</td>\n",
       "      <td>Struthionidae</td>\n",
       "      <td>Ostriches</td>\n",
       "      <td>struth1</td>\n",
       "      <td>ostric3</td>\n",
       "      <td>Somali Ostrich</td>\n",
       "      <td>Struthio molybdophanes</td>\n",
       "      <td>Struthio</td>\n",
       "      <td>molybdophanes</td>\n",
       "    </tr>\n",
       "    <tr>\n",
       "      <th>2</th>\n",
       "      <td>Rheiformes</td>\n",
       "      <td>Rheidae</td>\n",
       "      <td>Rheas</td>\n",
       "      <td>rheida1</td>\n",
       "      <td>grerhe1</td>\n",
       "      <td>Greater Rhea</td>\n",
       "      <td>Rhea americana</td>\n",
       "      <td>Rhea</td>\n",
       "      <td>americana</td>\n",
       "    </tr>\n",
       "    <tr>\n",
       "      <th>3</th>\n",
       "      <td>Rheiformes</td>\n",
       "      <td>Rheidae</td>\n",
       "      <td>Rheas</td>\n",
       "      <td>rheida1</td>\n",
       "      <td>lesrhe2</td>\n",
       "      <td>Lesser Rhea</td>\n",
       "      <td>Rhea pennata</td>\n",
       "      <td>Rhea</td>\n",
       "      <td>pennata</td>\n",
       "    </tr>\n",
       "    <tr>\n",
       "      <th>4</th>\n",
       "      <td>Tinamiformes</td>\n",
       "      <td>Tinamidae</td>\n",
       "      <td>Tinamous</td>\n",
       "      <td>tinami1</td>\n",
       "      <td>tabtin1</td>\n",
       "      <td>Tawny-breasted Tinamou</td>\n",
       "      <td>Nothocercus julius</td>\n",
       "      <td>Nothocercus</td>\n",
       "      <td>julius</td>\n",
       "    </tr>\n",
       "    <tr>\n",
       "      <th>5</th>\n",
       "      <td>Tinamiformes</td>\n",
       "      <td>Tinamidae</td>\n",
       "      <td>Tinamous</td>\n",
       "      <td>tinami1</td>\n",
       "      <td>higtin1</td>\n",
       "      <td>Highland Tinamou</td>\n",
       "      <td>Nothocercus bonapartei</td>\n",
       "      <td>Nothocercus</td>\n",
       "      <td>bonapartei</td>\n",
       "    </tr>\n",
       "    <tr>\n",
       "      <th>6</th>\n",
       "      <td>Tinamiformes</td>\n",
       "      <td>Tinamidae</td>\n",
       "      <td>Tinamous</td>\n",
       "      <td>tinami1</td>\n",
       "      <td>hootin1</td>\n",
       "      <td>Hooded Tinamou</td>\n",
       "      <td>Nothocercus nigrocapillus</td>\n",
       "      <td>Nothocercus</td>\n",
       "      <td>nigrocapillus</td>\n",
       "    </tr>\n",
       "    <tr>\n",
       "      <th>7</th>\n",
       "      <td>Tinamiformes</td>\n",
       "      <td>Tinamidae</td>\n",
       "      <td>Tinamous</td>\n",
       "      <td>tinami1</td>\n",
       "      <td>grytin1</td>\n",
       "      <td>Gray Tinamou</td>\n",
       "      <td>Tinamus tao</td>\n",
       "      <td>Tinamus</td>\n",
       "      <td>tao</td>\n",
       "    </tr>\n",
       "    <tr>\n",
       "      <th>8</th>\n",
       "      <td>Tinamiformes</td>\n",
       "      <td>Tinamidae</td>\n",
       "      <td>Tinamous</td>\n",
       "      <td>tinami1</td>\n",
       "      <td>soltin1</td>\n",
       "      <td>Solitary Tinamou</td>\n",
       "      <td>Tinamus solitarius</td>\n",
       "      <td>Tinamus</td>\n",
       "      <td>solitarius</td>\n",
       "    </tr>\n",
       "    <tr>\n",
       "      <th>9</th>\n",
       "      <td>Tinamiformes</td>\n",
       "      <td>Tinamidae</td>\n",
       "      <td>Tinamous</td>\n",
       "      <td>tinami1</td>\n",
       "      <td>blatin1</td>\n",
       "      <td>Black Tinamou</td>\n",
       "      <td>Tinamus osgoodi</td>\n",
       "      <td>Tinamus</td>\n",
       "      <td>osgoodi</td>\n",
       "    </tr>\n",
       "  </tbody>\n",
       "</table>\n",
       "</div>"
      ],
      "text/plain": [
       "              order    family_name family_description family_code     code  \\\n",
       "0  Struthioniformes  Struthionidae          Ostriches     struth1  ostric2   \n",
       "1  Struthioniformes  Struthionidae          Ostriches     struth1  ostric3   \n",
       "2        Rheiformes        Rheidae              Rheas     rheida1  grerhe1   \n",
       "3        Rheiformes        Rheidae              Rheas     rheida1  lesrhe2   \n",
       "4      Tinamiformes      Tinamidae           Tinamous     tinami1  tabtin1   \n",
       "5      Tinamiformes      Tinamidae           Tinamous     tinami1  higtin1   \n",
       "6      Tinamiformes      Tinamidae           Tinamous     tinami1  hootin1   \n",
       "7      Tinamiformes      Tinamidae           Tinamous     tinami1  grytin1   \n",
       "8      Tinamiformes      Tinamidae           Tinamous     tinami1  soltin1   \n",
       "9      Tinamiformes      Tinamidae           Tinamous     tinami1  blatin1   \n",
       "\n",
       "                 com_name                   sci_name        genus  \\\n",
       "0          Common Ostrich           Struthio camelus     Struthio   \n",
       "1          Somali Ostrich     Struthio molybdophanes     Struthio   \n",
       "2            Greater Rhea             Rhea americana         Rhea   \n",
       "3             Lesser Rhea               Rhea pennata         Rhea   \n",
       "4  Tawny-breasted Tinamou         Nothocercus julius  Nothocercus   \n",
       "5        Highland Tinamou     Nothocercus bonapartei  Nothocercus   \n",
       "6          Hooded Tinamou  Nothocercus nigrocapillus  Nothocercus   \n",
       "7            Gray Tinamou                Tinamus tao      Tinamus   \n",
       "8        Solitary Tinamou         Tinamus solitarius      Tinamus   \n",
       "9           Black Tinamou            Tinamus osgoodi      Tinamus   \n",
       "\n",
       "         species  \n",
       "0        camelus  \n",
       "1  molybdophanes  \n",
       "2      americana  \n",
       "3        pennata  \n",
       "4         julius  \n",
       "5     bonapartei  \n",
       "6  nigrocapillus  \n",
       "7            tao  \n",
       "8     solitarius  \n",
       "9        osgoodi  "
      ]
     },
     "execution_count": 3,
     "metadata": {},
     "output_type": "execute_result"
    }
   ],
   "source": [
    "df_species.head(10)"
   ]
  },
  {
   "cell_type": "markdown",
   "id": "a8de4e16",
   "metadata": {},
   "source": [
    "## iNaturalist 2017 classes"
   ]
  },
  {
   "cell_type": "code",
   "execution_count": 4,
   "id": "626cb6dc",
   "metadata": {},
   "outputs": [],
   "source": [
    "import json\n",
    "\n",
    "DATAPATH = '/home/pf/pfstaff/projects/andresro/infusion/data/iNaturalist'"
   ]
  },
  {
   "cell_type": "code",
   "execution_count": 5,
   "id": "25645393",
   "metadata": {},
   "outputs": [],
   "source": [
    "train_file = DATAPATH+'/2017/train_val2017/train2017.json'\n",
    "\n",
    "with open(train_file) as json_file:\n",
    "    train_annotations = json.load(json_file)\n",
    "\n",
    "val_file = DATAPATH+'/2017/train_val2017/val2017.json'\n",
    "\n",
    "with open(val_file) as json_file:\n",
    "    val_annotations = json.load(json_file)\n",
    "\n",
    "test_file = DATAPATH+'/2017/test2017/test2017.json'\n",
    "\n",
    "with open(test_file) as json_file:\n",
    "    test_annotations = json.load(json_file)\n"
   ]
  },
  {
   "cell_type": "code",
   "execution_count": 6,
   "id": "a5281ed9",
   "metadata": {},
   "outputs": [
    {
     "data": {
      "text/plain": [
       "dict_keys(['info', 'images', 'licenses', 'annotations', 'categories'])"
      ]
     },
     "execution_count": 6,
     "metadata": {},
     "output_type": "execute_result"
    }
   ],
   "source": [
    "train_annotations.keys()"
   ]
  },
  {
   "cell_type": "code",
   "execution_count": 7,
   "id": "4f7b5916",
   "metadata": {},
   "outputs": [
    {
     "name": "stdout",
     "output_type": "stream",
     "text": [
      "(895, 9)\n"
     ]
    }
   ],
   "source": [
    "names_inat = [x['name'] for x in train_annotations['categories'] if x['supercategory'] == 'Aves']\n",
    "\n",
    "df1 = df_species[df_species.sci_name.isin(names_inat)]\n",
    "print(df1.shape)\n",
    "sci_names_inat = list(df1.sci_name)\n"
   ]
  },
  {
   "cell_type": "code",
   "execution_count": 8,
   "id": "cf7cbe6d",
   "metadata": {},
   "outputs": [],
   "source": [
    "train_subset = [x for x  in  train_annotations['images'] if x['file_name'].split('/')[2] in sci_names_inat]\n",
    "\n",
    "val_subset = [x for x  in  val_annotations['images'] if x['file_name'].split('/')[2] in sci_names_inat]\n"
   ]
  },
  {
   "cell_type": "code",
   "execution_count": 9,
   "id": "2e73af41",
   "metadata": {},
   "outputs": [
    {
     "name": "stdout",
     "output_type": "stream",
     "text": [
      "Train  complete 579184 subset 202943\n",
      "Val  complete 95986 subset 19699\n",
      "Test  complete 182707 subset\n"
     ]
    }
   ],
   "source": [
    "print('Train  complete {} subset {}'.format(len(train_annotations['images']), len(train_subset)))\n",
    "\n",
    "print('Val  complete {} subset {}'.format(len(val_annotations['images']), len(val_subset)))\n",
    "\n",
    "print('Test  complete {} subset'.format(len(test_annotations['images'])))"
   ]
  },
  {
   "cell_type": "code",
   "execution_count": 10,
   "id": "88096445",
   "metadata": {},
   "outputs": [],
   "source": [
    "train_keys = [x['file_name'][:-4] for x in train_subset]"
   ]
  },
  {
   "cell_type": "markdown",
   "id": "054c3450",
   "metadata": {},
   "source": [
    "### Create class splits"
   ]
  },
  {
   "cell_type": "code",
   "execution_count": 146,
   "id": "cd44ec42",
   "metadata": {},
   "outputs": [],
   "source": [
    "np.random.seed(1)\n",
    "\n",
    "results = []\n",
    "for order,  group in df1.groupby('order'):\n",
    "    for family, group1 in group.groupby('family_name'):\n",
    "        for genus, group2 in group1.groupby('genus'):\n",
    "            for species, group3 in group2.groupby('sci_name'):\n",
    "                results.append({'order':order,'n_families':group['family_name'].drop_duplicates().shape[0],\n",
    "                                'family':family,'n_genus':group1['genus'].drop_duplicates().shape[0],\n",
    "                                'genus':genus,'n_species':group2['sci_name'].drop_duplicates().shape[0],\n",
    "                                'sci_name':species,'is_train':np.random.random() > 0.2\n",
    "                                })"
   ]
  },
  {
   "cell_type": "code",
   "execution_count": 147,
   "id": "fe8ab053",
   "metadata": {},
   "outputs": [
    {
     "name": "stdout",
     "output_type": "stream",
     "text": [
      "(895, 8)\n"
     ]
    },
    {
     "data": {
      "text/html": [
       "<div>\n",
       "<style scoped>\n",
       "    .dataframe tbody tr th:only-of-type {\n",
       "        vertical-align: middle;\n",
       "    }\n",
       "\n",
       "    .dataframe tbody tr th {\n",
       "        vertical-align: top;\n",
       "    }\n",
       "\n",
       "    .dataframe thead th {\n",
       "        text-align: right;\n",
       "    }\n",
       "</style>\n",
       "<table border=\"1\" class=\"dataframe\">\n",
       "  <thead>\n",
       "    <tr style=\"text-align: right;\">\n",
       "      <th></th>\n",
       "      <th>order</th>\n",
       "      <th>n_families</th>\n",
       "      <th>family</th>\n",
       "      <th>n_genus</th>\n",
       "      <th>genus</th>\n",
       "      <th>n_species</th>\n",
       "      <th>sci_name</th>\n",
       "      <th>is_train</th>\n",
       "    </tr>\n",
       "  </thead>\n",
       "  <tbody>\n",
       "    <tr>\n",
       "      <th>0</th>\n",
       "      <td>Accipitriformes</td>\n",
       "      <td>3</td>\n",
       "      <td>Accipitridae</td>\n",
       "      <td>19</td>\n",
       "      <td>Accipiter</td>\n",
       "      <td>4</td>\n",
       "      <td>Accipiter cooperii</td>\n",
       "      <td>True</td>\n",
       "    </tr>\n",
       "    <tr>\n",
       "      <th>1</th>\n",
       "      <td>Accipitriformes</td>\n",
       "      <td>3</td>\n",
       "      <td>Accipitridae</td>\n",
       "      <td>19</td>\n",
       "      <td>Accipiter</td>\n",
       "      <td>4</td>\n",
       "      <td>Accipiter gentilis</td>\n",
       "      <td>True</td>\n",
       "    </tr>\n",
       "    <tr>\n",
       "      <th>2</th>\n",
       "      <td>Accipitriformes</td>\n",
       "      <td>3</td>\n",
       "      <td>Accipitridae</td>\n",
       "      <td>19</td>\n",
       "      <td>Accipiter</td>\n",
       "      <td>4</td>\n",
       "      <td>Accipiter nisus</td>\n",
       "      <td>False</td>\n",
       "    </tr>\n",
       "    <tr>\n",
       "      <th>3</th>\n",
       "      <td>Accipitriformes</td>\n",
       "      <td>3</td>\n",
       "      <td>Accipitridae</td>\n",
       "      <td>19</td>\n",
       "      <td>Accipiter</td>\n",
       "      <td>4</td>\n",
       "      <td>Accipiter striatus</td>\n",
       "      <td>True</td>\n",
       "    </tr>\n",
       "    <tr>\n",
       "      <th>4</th>\n",
       "      <td>Accipitriformes</td>\n",
       "      <td>3</td>\n",
       "      <td>Accipitridae</td>\n",
       "      <td>19</td>\n",
       "      <td>Aquila</td>\n",
       "      <td>1</td>\n",
       "      <td>Aquila chrysaetos</td>\n",
       "      <td>False</td>\n",
       "    </tr>\n",
       "    <tr>\n",
       "      <th>5</th>\n",
       "      <td>Accipitriformes</td>\n",
       "      <td>3</td>\n",
       "      <td>Accipitridae</td>\n",
       "      <td>19</td>\n",
       "      <td>Busarellus</td>\n",
       "      <td>1</td>\n",
       "      <td>Busarellus nigricollis</td>\n",
       "      <td>False</td>\n",
       "    </tr>\n",
       "    <tr>\n",
       "      <th>6</th>\n",
       "      <td>Accipitriformes</td>\n",
       "      <td>3</td>\n",
       "      <td>Accipitridae</td>\n",
       "      <td>19</td>\n",
       "      <td>Buteo</td>\n",
       "      <td>10</td>\n",
       "      <td>Buteo albonotatus</td>\n",
       "      <td>False</td>\n",
       "    </tr>\n",
       "    <tr>\n",
       "      <th>7</th>\n",
       "      <td>Accipitriformes</td>\n",
       "      <td>3</td>\n",
       "      <td>Accipitridae</td>\n",
       "      <td>19</td>\n",
       "      <td>Buteo</td>\n",
       "      <td>10</td>\n",
       "      <td>Buteo brachyurus</td>\n",
       "      <td>True</td>\n",
       "    </tr>\n",
       "    <tr>\n",
       "      <th>8</th>\n",
       "      <td>Accipitriformes</td>\n",
       "      <td>3</td>\n",
       "      <td>Accipitridae</td>\n",
       "      <td>19</td>\n",
       "      <td>Buteo</td>\n",
       "      <td>10</td>\n",
       "      <td>Buteo buteo</td>\n",
       "      <td>True</td>\n",
       "    </tr>\n",
       "    <tr>\n",
       "      <th>9</th>\n",
       "      <td>Accipitriformes</td>\n",
       "      <td>3</td>\n",
       "      <td>Accipitridae</td>\n",
       "      <td>19</td>\n",
       "      <td>Buteo</td>\n",
       "      <td>10</td>\n",
       "      <td>Buteo jamaicensis</td>\n",
       "      <td>True</td>\n",
       "    </tr>\n",
       "  </tbody>\n",
       "</table>\n",
       "</div>"
      ],
      "text/plain": [
       "             order  n_families        family  n_genus       genus  n_species  \\\n",
       "0  Accipitriformes           3  Accipitridae       19   Accipiter          4   \n",
       "1  Accipitriformes           3  Accipitridae       19   Accipiter          4   \n",
       "2  Accipitriformes           3  Accipitridae       19   Accipiter          4   \n",
       "3  Accipitriformes           3  Accipitridae       19   Accipiter          4   \n",
       "4  Accipitriformes           3  Accipitridae       19      Aquila          1   \n",
       "5  Accipitriformes           3  Accipitridae       19  Busarellus          1   \n",
       "6  Accipitriformes           3  Accipitridae       19       Buteo         10   \n",
       "7  Accipitriformes           3  Accipitridae       19       Buteo         10   \n",
       "8  Accipitriformes           3  Accipitridae       19       Buteo         10   \n",
       "9  Accipitriformes           3  Accipitridae       19       Buteo         10   \n",
       "\n",
       "                 sci_name  is_train  \n",
       "0      Accipiter cooperii      True  \n",
       "1      Accipiter gentilis      True  \n",
       "2         Accipiter nisus     False  \n",
       "3      Accipiter striatus      True  \n",
       "4       Aquila chrysaetos     False  \n",
       "5  Busarellus nigricollis     False  \n",
       "6       Buteo albonotatus     False  \n",
       "7        Buteo brachyurus      True  \n",
       "8             Buteo buteo      True  \n",
       "9       Buteo jamaicensis      True  "
      ]
     },
     "execution_count": 147,
     "metadata": {},
     "output_type": "execute_result"
    }
   ],
   "source": [
    "df2 = pd.DataFrame(results)\n",
    "print(df2.shape)\n",
    "df2.head(10)"
   ]
  },
  {
   "cell_type": "code",
   "execution_count": 148,
   "id": "14a7c63c",
   "metadata": {},
   "outputs": [
    {
     "name": "stdout",
     "output_type": "stream",
     "text": [
      "0.42569832402234636\n"
     ]
    }
   ],
   "source": [
    "index = (df2['n_families'] > 1) & (df2['n_genus'] > 1) & (df2['n_species'] > 1)\n",
    "\n",
    "df2.loc[~index, 'is_train'] = False\n",
    "print(df2.is_train.mean())\n",
    "\n",
    "df3 = df2[index]"
   ]
  },
  {
   "cell_type": "code",
   "execution_count": 149,
   "id": "d67d8996",
   "metadata": {},
   "outputs": [
    {
     "name": "stdout",
     "output_type": "stream",
     "text": [
      "(477, 8)\n"
     ]
    }
   ],
   "source": [
    "print(df3.shape)\n",
    "\n",
    "# df2.head(10)"
   ]
  },
  {
   "cell_type": "code",
   "execution_count": 150,
   "id": "03ab7fdd",
   "metadata": {},
   "outputs": [
    {
     "data": {
      "text/plain": [
       "(381, 8)"
      ]
     },
     "execution_count": 150,
     "metadata": {},
     "output_type": "execute_result"
    }
   ],
   "source": [
    "df_train = df3[df3['is_train']]\n",
    "df_train.shape"
   ]
  },
  {
   "cell_type": "code",
   "execution_count": 151,
   "id": "03ab7fdd",
   "metadata": {},
   "outputs": [
    {
     "data": {
      "text/plain": [
       "(514, 8)"
      ]
     },
     "execution_count": 151,
     "metadata": {},
     "output_type": "execute_result"
    }
   ],
   "source": [
    "df_val = df2[~df2['is_train']]\n",
    "df_val.shape"
   ]
  },
  {
   "cell_type": "code",
   "execution_count": 152,
   "id": "c2393c22",
   "metadata": {},
   "outputs": [
    {
     "data": {
      "text/plain": [
       "(87, 8)"
      ]
     },
     "execution_count": 152,
     "metadata": {},
     "output_type": "execute_result"
    }
   ],
   "source": [
    "index_1hop = df_val.genus.isin(df_train.genus)\n",
    "\n",
    "df_val_1hop = df_val[index_1hop]\n",
    "\n",
    "df_val_1hop.shape"
   ]
  },
  {
   "cell_type": "code",
   "execution_count": 153,
   "id": "c2393c22",
   "metadata": {},
   "outputs": [
    {
     "data": {
      "text/plain": [
       "(177, 8)"
      ]
     },
     "execution_count": 153,
     "metadata": {},
     "output_type": "execute_result"
    }
   ],
   "source": [
    "index_2hop = df_val.family.isin(df_train.family) & ~df_val.genus.isin(df_train.genus)\n",
    "\n",
    "df_val_2hop = df_val[index_2hop]\n",
    "\n",
    "df_val_2hop.shape"
   ]
  },
  {
   "cell_type": "code",
   "execution_count": 154,
   "id": "c2393c22",
   "metadata": {},
   "outputs": [
    {
     "data": {
      "text/plain": [
       "(110, 8)"
      ]
     },
     "execution_count": 154,
     "metadata": {},
     "output_type": "execute_result"
    }
   ],
   "source": [
    "index_3hop = df_val.order.isin(df_train.order) & ~df_val.family.isin(df_train.family)\n",
    "\n",
    "df_val_3hop = df_val[index_3hop]\n",
    "\n",
    "df_val_3hop.shape"
   ]
  },
  {
   "cell_type": "code",
   "execution_count": 155,
   "id": "c2393c22",
   "metadata": {},
   "outputs": [
    {
     "data": {
      "text/plain": [
       "(140, 8)"
      ]
     },
     "execution_count": 155,
     "metadata": {},
     "output_type": "execute_result"
    }
   ],
   "source": [
    "index_4hop = ~df_val.order.isin(df_train.order)\n",
    "\n",
    "df_val_4hop = df_val[index_4hop]\n",
    "\n",
    "df_val_4hop.shape"
   ]
  },
  {
   "cell_type": "code",
   "execution_count": 156,
   "id": "3fca6b21",
   "metadata": {},
   "outputs": [],
   "source": [
    "val_sets = {'train':df_train,\n",
    "            'val_seen':df_train,\n",
    "            'val allhop':df_val,\n",
    "            'val 1hop':df_val_1hop,\n",
    "            'val 2hop':df_val_2hop,\n",
    "            'val 3hop':df_val_3hop,\n",
    "            'val 4hop':df_val_4hop,}"
   ]
  },
  {
   "cell_type": "code",
   "execution_count": 11,
   "id": "e39f6cc0",
   "metadata": {},
   "outputs": [],
   "source": [
    "is_overwrite = False \n",
    "import pickle\n",
    "\n",
    "file = DATAPATH+'/2017/zsl_splits/all_splits.pickle'\n",
    "if is_overwrite:\n",
    "    with open(file, 'wb') as handle:\n",
    "        pickle.dump(val_sets, handle, protocol=pickle.HIGHEST_PROTOCOL)\n",
    "else:\n",
    "    with open(file, 'rb') as handle:\n",
    "        val_sets = pickle.load(handle)\n",
    "\n",
    "\n"
   ]
  },
  {
   "cell_type": "code",
   "execution_count": 13,
   "id": "b8788839",
   "metadata": {},
   "outputs": [],
   "source": [
    "\n",
    "df_train = val_sets['train']\n",
    "\n",
    "list_out = []\n",
    "for key, val in val_sets.items():\n",
    "    \n",
    "    list_ = list(val['sci_name'])\n",
    "    \n",
    "    dset_zsl = [x for x  in  train_subset if x['file_name'].split('/')[2] in list_]\n",
    "    n1 = len(dset_zsl)\n",
    "    # else:\n",
    "    dset_zsl = [x for x  in  val_subset if x['file_name'].split('/')[2] in list_]\n",
    "    n2 = len(dset_zsl)\n",
    "    n3 = n1 if key == 'train' else n2\n",
    "        \n",
    "    # print( f' {key} n sci_name = {val.shape[0]} , n_images = {n1 + n2}')\n",
    "\n",
    "    list_out.append({'Set':key,\n",
    "        #  'n1':n1,'n2':n2,'n1+n2':n1+n2,\n",
    "        'n_samples':n3})\n",
    "    for level in ['order','family','genus','sci_name']:\n",
    "        index_ = val[level].drop_duplicates().isin(df_train[level])\n",
    "        list_out[-1][level+'_train'] = index_.sum()\n",
    "        list_out[-1][level] = index_.shape[0]\n",
    "        # print(f'\\t {level} in train {index_.sum()} ({index_.mean():.1%})')\n",
    "\n",
    "\n"
   ]
  },
  {
   "cell_type": "code",
   "execution_count": 14,
   "id": "0597774e",
   "metadata": {},
   "outputs": [],
   "source": [
    "df_summary_17 = pd.DataFrame(list_out).set_index('Set')\n"
   ]
  },
  {
   "cell_type": "code",
   "execution_count": 15,
   "id": "b944aaab",
   "metadata": {},
   "outputs": [
    {
     "data": {
      "text/plain": [
       "'\\\\begin{tabular}{lrr}\\n\\\\toprule\\n{} & n\\\\_samples & sci\\\\_name \\\\\\\\\\nSet        &           &          \\\\\\\\\\n\\\\midrule\\ntrain      &    97,067 &      381 \\\\\\\\\\nval\\\\_seen   &     8,626 &      381 \\\\\\\\\\nval allhop &    11,073 &      514 \\\\\\\\\\nval 1hop   &     2,204 &       87 \\\\\\\\\\nval 2hop   &     3,613 &      177 \\\\\\\\\\nval 3hop   &     2,175 &      110 \\\\\\\\\\nval 4hop   &     3,081 &      140 \\\\\\\\\\n\\\\bottomrule\\n\\\\end{tabular}\\n'"
      ]
     },
     "execution_count": 15,
     "metadata": {},
     "output_type": "execute_result"
    }
   ],
   "source": [
    "\n",
    "def use_f_2(x):\n",
    "    return f'{x:,.0f}'\n",
    "\n",
    "df_summary_17[['n_samples','sci_name']].to_latex(\n",
    "        # 'tables/inat17_splits.tex',\n",
    "        formatters=[use_f_2,use_f_2]\n",
    "        )"
   ]
  },
  {
   "cell_type": "code",
   "execution_count": 164,
   "id": "f0016483",
   "metadata": {},
   "outputs": [],
   "source": [
    "save_dir = DATAPATH+'/2017/zsl_splits/'\n",
    "\n",
    "is_overwrite = False\n",
    "if is_overwrite:\n",
    "    df_train['sci_name'].to_csv(save_dir + \"seen_classes.txt\", index = False,header=False)\n",
    "    df_val['sci_name'].to_csv(save_dir + \"unseen_allhop_classes.txt\", index = False,header=False)\n",
    "    df_val_1hop['sci_name'].to_csv(save_dir + \"unseen_1hop_classes.txt\", index = False,header=False)\n",
    "    df_val_2hop['sci_name'].to_csv(save_dir + \"unseen_2hop_classes.txt\", index = False,header=False)\n",
    "    df_val_3hop['sci_name'].to_csv(save_dir + \"unseen_3hop_classes.txt\", index = False,header=False)\n",
    "    df_val_4hop['sci_name'].to_csv(save_dir + \"unseen_4hop_classes.txt\", index = False,header=False)\n",
    "\n",
    "    df2['sci_name'].to_csv(save_dir + \"all_classes.txt\", index = False,header=False)"
   ]
  },
  {
   "cell_type": "markdown",
   "id": "ceedcaac",
   "metadata": {},
   "source": [
    "## iNaturalist 2021 classes"
   ]
  },
  {
   "cell_type": "code",
   "execution_count": 4,
   "id": "7d3f9acb",
   "metadata": {},
   "outputs": [],
   "source": [
    "import json"
   ]
  },
  {
   "cell_type": "code",
   "execution_count": 5,
   "id": "b3bc48cb",
   "metadata": {},
   "outputs": [],
   "source": [
    "train_file = DATAPATH+'/2021/train.json'\n",
    "\n",
    "with open(train_file) as json_file:\n",
    "    train_annotations = json.load(json_file)\n",
    "\n",
    "train_mini_file = DATAPATH+'/2021/train_mini.json'\n",
    "\n",
    "with open(train_mini_file) as json_file:\n",
    "    train_mini_annotations = json.load(json_file)\n",
    "\n",
    "val_file = DATAPATH+'/2021/val.json'\n",
    "\n",
    "with open(val_file) as json_file:\n",
    "    val_annotations = json.load(json_file)\n",
    "\n",
    "\n",
    "test_file = DATAPATH+'/2021/public_test.json'\n",
    "\n",
    "with open(test_file) as json_file:\n",
    "    test_annotations = json.load(json_file)"
   ]
  },
  {
   "cell_type": "code",
   "execution_count": 6,
   "id": "99dee816",
   "metadata": {},
   "outputs": [
    {
     "data": {
      "text/plain": [
       "dict_keys(['info', 'images', 'categories', 'licenses'])"
      ]
     },
     "execution_count": 6,
     "metadata": {},
     "output_type": "execute_result"
    }
   ],
   "source": [
    "test_annotations.keys()"
   ]
  },
  {
   "cell_type": "code",
   "execution_count": 7,
   "id": "5b8f8ad3",
   "metadata": {},
   "outputs": [],
   "source": [
    "names_inat = [x['name'] for x in val_annotations['categories'] if x['supercategory'] == 'Birds']"
   ]
  },
  {
   "cell_type": "code",
   "execution_count": 8,
   "id": "066c10c5",
   "metadata": {},
   "outputs": [],
   "source": [
    "dirs_val = [x['image_dir_name'] for x in val_annotations['categories'] if x['supercategory'] == 'Birds']"
   ]
  },
  {
   "cell_type": "code",
   "execution_count": 21,
   "id": "36507910",
   "metadata": {},
   "outputs": [
    {
     "data": {
      "text/plain": [
       "1486"
      ]
     },
     "execution_count": 21,
     "metadata": {},
     "output_type": "execute_result"
    }
   ],
   "source": [
    "len(names_inat)"
   ]
  },
  {
   "cell_type": "code",
   "execution_count": 22,
   "id": "7f2dfe30",
   "metadata": {},
   "outputs": [
    {
     "data": {
      "text/plain": [
       "Index(['order', 'family_name', 'family_description', 'family_code', 'code',\n",
       "       'com_name', 'sci_name', 'genus', 'species'],\n",
       "      dtype='object')"
      ]
     },
     "execution_count": 22,
     "metadata": {},
     "output_type": "execute_result"
    }
   ],
   "source": [
    "df_species.columns"
   ]
  },
  {
   "cell_type": "code",
   "execution_count": 9,
   "id": "631b463c",
   "metadata": {},
   "outputs": [
    {
     "name": "stdout",
     "output_type": "stream",
     "text": [
      "(1485,)\n",
      "(1485, 9)\n"
     ]
    }
   ],
   "source": [
    "# subseting to only species that have samples in Billow\n",
    "df_illustrations = pd.read_csv('/home/pf/pfstaff/projects/andresro/birds/dataset/illustrations_list.txt', index_col=0)\n",
    "\n",
    "df_merged = df_illustrations.reset_index().set_index('sci_name').join(df_species.set_index('sci_name'), how='left').reset_index().set_index('index').sort_index()\n",
    "# \n",
    "df_count = df_merged.groupby('sci_name')['sample'].count()\n",
    "df_count = df_count[df_count > 0]\n",
    "df2 = df_count[df_count.index.isin(names_inat)]\n",
    "print(df2.shape)\n",
    "\n",
    "sci_names_inat = list(df2.index)\n",
    "\n",
    "df1 = df_species[df_species.sci_name.isin(sci_names_inat)]\n",
    "print(df1.shape)\n"
   ]
  },
  {
   "cell_type": "code",
   "execution_count": 10,
   "id": "6233327f",
   "metadata": {},
   "outputs": [],
   "source": [
    "get_sciname = lambda x: ' '.join(x.split('/')[1].split('_')[-2:])    "
   ]
  },
  {
   "cell_type": "code",
   "execution_count": 11,
   "id": "0463df7e",
   "metadata": {},
   "outputs": [],
   "source": [
    "train_subset = [x for x  in  train_annotations['images'] if get_sciname(x['file_name']) in sci_names_inat]\n",
    "\n",
    "train_mini_subset = [x for x  in  train_mini_annotations['images'] if get_sciname(x['file_name']) in sci_names_inat]\n",
    "\n",
    "val_subset = [x for x  in  val_annotations['images'] if get_sciname(x['file_name']) in sci_names_inat]"
   ]
  },
  {
   "cell_type": "code",
   "execution_count": 12,
   "id": "2e73af41",
   "metadata": {},
   "outputs": [
    {
     "name": "stdout",
     "output_type": "stream",
     "text": [
      "Train  complete 2686843 subset 414547\n",
      "Train-mini  complete 500000 subset 74250\n",
      "Val  complete 100000 subset 14850\n",
      "Test  complete 500000\n"
     ]
    }
   ],
   "source": [
    "print('Train  complete {} subset {}'.format(len(train_annotations['images']), len(train_subset)))\n",
    "print('Train-mini  complete {} subset {}'.format(len(train_mini_annotations['images']), len(train_mini_subset)))\n",
    "print('Val  complete {} subset {}'.format(len(val_annotations['images']), len(val_subset)))\n",
    "print('Test  complete {}'.format(len(test_annotations['images'])))"
   ]
  },
  {
   "cell_type": "markdown",
   "id": "054c3450",
   "metadata": {},
   "source": [
    "### Create class splits"
   ]
  },
  {
   "cell_type": "code",
   "execution_count": 27,
   "id": "9049f097",
   "metadata": {},
   "outputs": [
    {
     "data": {
      "text/html": [
       "<div>\n",
       "<style scoped>\n",
       "    .dataframe tbody tr th:only-of-type {\n",
       "        vertical-align: middle;\n",
       "    }\n",
       "\n",
       "    .dataframe tbody tr th {\n",
       "        vertical-align: top;\n",
       "    }\n",
       "\n",
       "    .dataframe thead th {\n",
       "        text-align: right;\n",
       "    }\n",
       "</style>\n",
       "<table border=\"1\" class=\"dataframe\">\n",
       "  <thead>\n",
       "    <tr style=\"text-align: right;\">\n",
       "      <th></th>\n",
       "      <th>order</th>\n",
       "      <th>family_name</th>\n",
       "      <th>family_description</th>\n",
       "      <th>family_code</th>\n",
       "      <th>code</th>\n",
       "      <th>com_name</th>\n",
       "      <th>sci_name</th>\n",
       "      <th>genus</th>\n",
       "      <th>species</th>\n",
       "    </tr>\n",
       "  </thead>\n",
       "  <tbody>\n",
       "    <tr>\n",
       "      <th>0</th>\n",
       "      <td>Struthioniformes</td>\n",
       "      <td>Struthionidae</td>\n",
       "      <td>Ostriches</td>\n",
       "      <td>struth1</td>\n",
       "      <td>ostric2</td>\n",
       "      <td>Common Ostrich</td>\n",
       "      <td>Struthio camelus</td>\n",
       "      <td>Struthio</td>\n",
       "      <td>camelus</td>\n",
       "    </tr>\n",
       "    <tr>\n",
       "      <th>53</th>\n",
       "      <td>Casuariiformes</td>\n",
       "      <td>Casuariidae</td>\n",
       "      <td>Cassowaries and Emu</td>\n",
       "      <td>casuar1</td>\n",
       "      <td>emu1</td>\n",
       "      <td>Emu</td>\n",
       "      <td>Dromaius novaehollandiae</td>\n",
       "      <td>Dromaius</td>\n",
       "      <td>novaehollandiae</td>\n",
       "    </tr>\n",
       "    <tr>\n",
       "      <th>60</th>\n",
       "      <td>Anseriformes</td>\n",
       "      <td>Anhimidae</td>\n",
       "      <td>Screamers</td>\n",
       "      <td>anhimi1</td>\n",
       "      <td>souscr1</td>\n",
       "      <td>Southern Screamer</td>\n",
       "      <td>Chauna torquata</td>\n",
       "      <td>Chauna</td>\n",
       "      <td>torquata</td>\n",
       "    </tr>\n",
       "    <tr>\n",
       "      <th>62</th>\n",
       "      <td>Anseriformes</td>\n",
       "      <td>Anseranatidae</td>\n",
       "      <td>Magpie Goose</td>\n",
       "      <td>ansera1</td>\n",
       "      <td>maggoo1</td>\n",
       "      <td>Magpie Goose</td>\n",
       "      <td>Anseranas semipalmata</td>\n",
       "      <td>Anseranas</td>\n",
       "      <td>semipalmata</td>\n",
       "    </tr>\n",
       "    <tr>\n",
       "      <th>65</th>\n",
       "      <td>Anseriformes</td>\n",
       "      <td>Anatidae</td>\n",
       "      <td>Ducks, Geese, and Waterfowl</td>\n",
       "      <td>anatid1</td>\n",
       "      <td>wfwduc1</td>\n",
       "      <td>White-faced Whistling-Duck</td>\n",
       "      <td>Dendrocygna viduata</td>\n",
       "      <td>Dendrocygna</td>\n",
       "      <td>viduata</td>\n",
       "    </tr>\n",
       "    <tr>\n",
       "      <th>...</th>\n",
       "      <td>...</td>\n",
       "      <td>...</td>\n",
       "      <td>...</td>\n",
       "      <td>...</td>\n",
       "      <td>...</td>\n",
       "      <td>...</td>\n",
       "      <td>...</td>\n",
       "      <td>...</td>\n",
       "      <td>...</td>\n",
       "    </tr>\n",
       "    <tr>\n",
       "      <th>10683</th>\n",
       "      <td>Passeriformes</td>\n",
       "      <td>Thraupidae</td>\n",
       "      <td>Tanagers and Allies</td>\n",
       "      <td>thraup2</td>\n",
       "      <td>bkfgra</td>\n",
       "      <td>Black-faced Grassquit</td>\n",
       "      <td>Melanospiza bicolor</td>\n",
       "      <td>Melanospiza</td>\n",
       "      <td>bicolor</td>\n",
       "    </tr>\n",
       "    <tr>\n",
       "      <th>10707</th>\n",
       "      <td>Passeriformes</td>\n",
       "      <td>Thraupidae</td>\n",
       "      <td>Tanagers and Allies</td>\n",
       "      <td>thraup2</td>\n",
       "      <td>butsal1</td>\n",
       "      <td>Buff-throated Saltator</td>\n",
       "      <td>Saltator maximus</td>\n",
       "      <td>Saltator</td>\n",
       "      <td>maximus</td>\n",
       "    </tr>\n",
       "    <tr>\n",
       "      <th>10709</th>\n",
       "      <td>Passeriformes</td>\n",
       "      <td>Thraupidae</td>\n",
       "      <td>Tanagers and Allies</td>\n",
       "      <td>thraup2</td>\n",
       "      <td>blhsal1</td>\n",
       "      <td>Black-headed Saltator</td>\n",
       "      <td>Saltator atriceps</td>\n",
       "      <td>Saltator</td>\n",
       "      <td>atriceps</td>\n",
       "    </tr>\n",
       "    <tr>\n",
       "      <th>10711</th>\n",
       "      <td>Passeriformes</td>\n",
       "      <td>Thraupidae</td>\n",
       "      <td>Tanagers and Allies</td>\n",
       "      <td>thraup2</td>\n",
       "      <td>grasal1</td>\n",
       "      <td>Grayish Saltator</td>\n",
       "      <td>Saltator coerulescens</td>\n",
       "      <td>Saltator</td>\n",
       "      <td>coerulescens</td>\n",
       "    </tr>\n",
       "    <tr>\n",
       "      <th>10717</th>\n",
       "      <td>Passeriformes</td>\n",
       "      <td>Thraupidae</td>\n",
       "      <td>Tanagers and Allies</td>\n",
       "      <td>thraup2</td>\n",
       "      <td>gobsal1</td>\n",
       "      <td>Golden-billed Saltator</td>\n",
       "      <td>Saltator aurantiirostris</td>\n",
       "      <td>Saltator</td>\n",
       "      <td>aurantiirostris</td>\n",
       "    </tr>\n",
       "  </tbody>\n",
       "</table>\n",
       "<p>1485 rows × 9 columns</p>\n",
       "</div>"
      ],
      "text/plain": [
       "                  order    family_name           family_description  \\\n",
       "0      Struthioniformes  Struthionidae                    Ostriches   \n",
       "53       Casuariiformes    Casuariidae          Cassowaries and Emu   \n",
       "60         Anseriformes      Anhimidae                    Screamers   \n",
       "62         Anseriformes  Anseranatidae                 Magpie Goose   \n",
       "65         Anseriformes       Anatidae  Ducks, Geese, and Waterfowl   \n",
       "...                 ...            ...                          ...   \n",
       "10683     Passeriformes     Thraupidae          Tanagers and Allies   \n",
       "10707     Passeriformes     Thraupidae          Tanagers and Allies   \n",
       "10709     Passeriformes     Thraupidae          Tanagers and Allies   \n",
       "10711     Passeriformes     Thraupidae          Tanagers and Allies   \n",
       "10717     Passeriformes     Thraupidae          Tanagers and Allies   \n",
       "\n",
       "      family_code     code                    com_name  \\\n",
       "0         struth1  ostric2              Common Ostrich   \n",
       "53        casuar1     emu1                         Emu   \n",
       "60        anhimi1  souscr1           Southern Screamer   \n",
       "62        ansera1  maggoo1                Magpie Goose   \n",
       "65        anatid1  wfwduc1  White-faced Whistling-Duck   \n",
       "...           ...      ...                         ...   \n",
       "10683     thraup2   bkfgra       Black-faced Grassquit   \n",
       "10707     thraup2  butsal1      Buff-throated Saltator   \n",
       "10709     thraup2  blhsal1       Black-headed Saltator   \n",
       "10711     thraup2  grasal1            Grayish Saltator   \n",
       "10717     thraup2  gobsal1      Golden-billed Saltator   \n",
       "\n",
       "                       sci_name        genus          species  \n",
       "0              Struthio camelus     Struthio          camelus  \n",
       "53     Dromaius novaehollandiae     Dromaius  novaehollandiae  \n",
       "60              Chauna torquata       Chauna         torquata  \n",
       "62        Anseranas semipalmata    Anseranas      semipalmata  \n",
       "65          Dendrocygna viduata  Dendrocygna          viduata  \n",
       "...                         ...          ...              ...  \n",
       "10683       Melanospiza bicolor  Melanospiza          bicolor  \n",
       "10707          Saltator maximus     Saltator          maximus  \n",
       "10709         Saltator atriceps     Saltator         atriceps  \n",
       "10711     Saltator coerulescens     Saltator     coerulescens  \n",
       "10717  Saltator aurantiirostris     Saltator  aurantiirostris  \n",
       "\n",
       "[1485 rows x 9 columns]"
      ]
     },
     "execution_count": 27,
     "metadata": {},
     "output_type": "execute_result"
    }
   ],
   "source": [
    "df1"
   ]
  },
  {
   "cell_type": "code",
   "execution_count": 28,
   "id": "cd44ec42",
   "metadata": {},
   "outputs": [],
   "source": [
    "np.random.seed(1)\n",
    "\n",
    "results = []\n",
    "for order,  group in df1.groupby('order'):\n",
    "    for family, group1 in group.groupby('family_name'):\n",
    "        for genus, group2 in group1.groupby('genus'):\n",
    "            for species, group3 in group2.groupby('sci_name'):\n",
    "                results.append({'order':order,'n_families':group['family_name'].drop_duplicates().shape[0],\n",
    "                                'family':family,'n_genus':group1['genus'].drop_duplicates().shape[0],\n",
    "                                'genus':genus,'n_species':group2['sci_name'].drop_duplicates().shape[0],\n",
    "                                'sci_name':species,'is_train':np.random.random() > 0.2\n",
    "                                })"
   ]
  },
  {
   "cell_type": "code",
   "execution_count": 29,
   "id": "fe8ab053",
   "metadata": {},
   "outputs": [
    {
     "name": "stdout",
     "output_type": "stream",
     "text": [
      "(1485, 8)\n"
     ]
    },
    {
     "data": {
      "text/html": [
       "<div>\n",
       "<style scoped>\n",
       "    .dataframe tbody tr th:only-of-type {\n",
       "        vertical-align: middle;\n",
       "    }\n",
       "\n",
       "    .dataframe tbody tr th {\n",
       "        vertical-align: top;\n",
       "    }\n",
       "\n",
       "    .dataframe thead th {\n",
       "        text-align: right;\n",
       "    }\n",
       "</style>\n",
       "<table border=\"1\" class=\"dataframe\">\n",
       "  <thead>\n",
       "    <tr style=\"text-align: right;\">\n",
       "      <th></th>\n",
       "      <th>order</th>\n",
       "      <th>n_families</th>\n",
       "      <th>family</th>\n",
       "      <th>n_genus</th>\n",
       "      <th>genus</th>\n",
       "      <th>n_species</th>\n",
       "      <th>sci_name</th>\n",
       "      <th>is_train</th>\n",
       "    </tr>\n",
       "  </thead>\n",
       "  <tbody>\n",
       "    <tr>\n",
       "      <th>0</th>\n",
       "      <td>Accipitriformes</td>\n",
       "      <td>3</td>\n",
       "      <td>Accipitridae</td>\n",
       "      <td>34</td>\n",
       "      <td>Accipiter</td>\n",
       "      <td>6</td>\n",
       "      <td>Accipiter badius</td>\n",
       "      <td>True</td>\n",
       "    </tr>\n",
       "    <tr>\n",
       "      <th>1</th>\n",
       "      <td>Accipitriformes</td>\n",
       "      <td>3</td>\n",
       "      <td>Accipitridae</td>\n",
       "      <td>34</td>\n",
       "      <td>Accipiter</td>\n",
       "      <td>6</td>\n",
       "      <td>Accipiter cooperii</td>\n",
       "      <td>True</td>\n",
       "    </tr>\n",
       "    <tr>\n",
       "      <th>2</th>\n",
       "      <td>Accipitriformes</td>\n",
       "      <td>3</td>\n",
       "      <td>Accipitridae</td>\n",
       "      <td>34</td>\n",
       "      <td>Accipiter</td>\n",
       "      <td>6</td>\n",
       "      <td>Accipiter gentilis</td>\n",
       "      <td>False</td>\n",
       "    </tr>\n",
       "    <tr>\n",
       "      <th>3</th>\n",
       "      <td>Accipitriformes</td>\n",
       "      <td>3</td>\n",
       "      <td>Accipitridae</td>\n",
       "      <td>34</td>\n",
       "      <td>Accipiter</td>\n",
       "      <td>6</td>\n",
       "      <td>Accipiter nisus</td>\n",
       "      <td>True</td>\n",
       "    </tr>\n",
       "    <tr>\n",
       "      <th>4</th>\n",
       "      <td>Accipitriformes</td>\n",
       "      <td>3</td>\n",
       "      <td>Accipitridae</td>\n",
       "      <td>34</td>\n",
       "      <td>Accipiter</td>\n",
       "      <td>6</td>\n",
       "      <td>Accipiter striatus</td>\n",
       "      <td>False</td>\n",
       "    </tr>\n",
       "    <tr>\n",
       "      <th>5</th>\n",
       "      <td>Accipitriformes</td>\n",
       "      <td>3</td>\n",
       "      <td>Accipitridae</td>\n",
       "      <td>34</td>\n",
       "      <td>Accipiter</td>\n",
       "      <td>6</td>\n",
       "      <td>Accipiter trivirgatus</td>\n",
       "      <td>False</td>\n",
       "    </tr>\n",
       "    <tr>\n",
       "      <th>6</th>\n",
       "      <td>Accipitriformes</td>\n",
       "      <td>3</td>\n",
       "      <td>Accipitridae</td>\n",
       "      <td>34</td>\n",
       "      <td>Aegypius</td>\n",
       "      <td>1</td>\n",
       "      <td>Aegypius monachus</td>\n",
       "      <td>False</td>\n",
       "    </tr>\n",
       "    <tr>\n",
       "      <th>7</th>\n",
       "      <td>Accipitriformes</td>\n",
       "      <td>3</td>\n",
       "      <td>Accipitridae</td>\n",
       "      <td>34</td>\n",
       "      <td>Aquila</td>\n",
       "      <td>5</td>\n",
       "      <td>Aquila audax</td>\n",
       "      <td>True</td>\n",
       "    </tr>\n",
       "    <tr>\n",
       "      <th>8</th>\n",
       "      <td>Accipitriformes</td>\n",
       "      <td>3</td>\n",
       "      <td>Accipitridae</td>\n",
       "      <td>34</td>\n",
       "      <td>Aquila</td>\n",
       "      <td>5</td>\n",
       "      <td>Aquila chrysaetos</td>\n",
       "      <td>True</td>\n",
       "    </tr>\n",
       "    <tr>\n",
       "      <th>9</th>\n",
       "      <td>Accipitriformes</td>\n",
       "      <td>3</td>\n",
       "      <td>Accipitridae</td>\n",
       "      <td>34</td>\n",
       "      <td>Aquila</td>\n",
       "      <td>5</td>\n",
       "      <td>Aquila heliaca</td>\n",
       "      <td>True</td>\n",
       "    </tr>\n",
       "  </tbody>\n",
       "</table>\n",
       "</div>"
      ],
      "text/plain": [
       "             order  n_families        family  n_genus      genus  n_species  \\\n",
       "0  Accipitriformes           3  Accipitridae       34  Accipiter          6   \n",
       "1  Accipitriformes           3  Accipitridae       34  Accipiter          6   \n",
       "2  Accipitriformes           3  Accipitridae       34  Accipiter          6   \n",
       "3  Accipitriformes           3  Accipitridae       34  Accipiter          6   \n",
       "4  Accipitriformes           3  Accipitridae       34  Accipiter          6   \n",
       "5  Accipitriformes           3  Accipitridae       34  Accipiter          6   \n",
       "6  Accipitriformes           3  Accipitridae       34   Aegypius          1   \n",
       "7  Accipitriformes           3  Accipitridae       34     Aquila          5   \n",
       "8  Accipitriformes           3  Accipitridae       34     Aquila          5   \n",
       "9  Accipitriformes           3  Accipitridae       34     Aquila          5   \n",
       "\n",
       "                sci_name  is_train  \n",
       "0       Accipiter badius      True  \n",
       "1     Accipiter cooperii      True  \n",
       "2     Accipiter gentilis     False  \n",
       "3        Accipiter nisus      True  \n",
       "4     Accipiter striatus     False  \n",
       "5  Accipiter trivirgatus     False  \n",
       "6      Aegypius monachus     False  \n",
       "7           Aquila audax      True  \n",
       "8      Aquila chrysaetos      True  \n",
       "9         Aquila heliaca      True  "
      ]
     },
     "execution_count": 29,
     "metadata": {},
     "output_type": "execute_result"
    }
   ],
   "source": [
    "df2 = pd.DataFrame(results)\n",
    "print(df2.shape)\n",
    "df2.head(10)"
   ]
  },
  {
   "cell_type": "code",
   "execution_count": 30,
   "id": "14a7c63c",
   "metadata": {},
   "outputs": [
    {
     "name": "stdout",
     "output_type": "stream",
     "text": [
      "0.5043771043771044\n"
     ]
    }
   ],
   "source": [
    "index = (df2['n_families'] > 1) & (df2['n_genus'] > 1) & (df2['n_species'] > 1)\n",
    "\n",
    "df2.loc[~index, 'is_train'] = False\n",
    "print(df2.is_train.mean())\n",
    "\n",
    "df3 = df2[index]"
   ]
  },
  {
   "cell_type": "code",
   "execution_count": 31,
   "id": "d67d8996",
   "metadata": {},
   "outputs": [
    {
     "name": "stdout",
     "output_type": "stream",
     "text": [
      "(927, 8)\n"
     ]
    }
   ],
   "source": [
    "print(df3.shape)\n",
    "\n",
    "# df2.head(10)"
   ]
  },
  {
   "cell_type": "code",
   "execution_count": 32,
   "id": "03ab7fdd",
   "metadata": {},
   "outputs": [
    {
     "data": {
      "text/plain": [
       "(749, 8)"
      ]
     },
     "execution_count": 32,
     "metadata": {},
     "output_type": "execute_result"
    }
   ],
   "source": [
    "df_train = df3[df3['is_train']]\n",
    "df_train.shape"
   ]
  },
  {
   "cell_type": "code",
   "execution_count": 33,
   "id": "03ab7fdd",
   "metadata": {},
   "outputs": [
    {
     "data": {
      "text/plain": [
       "(736, 8)"
      ]
     },
     "execution_count": 33,
     "metadata": {},
     "output_type": "execute_result"
    }
   ],
   "source": [
    "df_val = df2[~df2['is_train']]\n",
    "df_val.shape"
   ]
  },
  {
   "cell_type": "code",
   "execution_count": 34,
   "id": "c2393c22",
   "metadata": {},
   "outputs": [
    {
     "data": {
      "text/plain": [
       "(168, 8)"
      ]
     },
     "execution_count": 34,
     "metadata": {},
     "output_type": "execute_result"
    }
   ],
   "source": [
    "index_1hop = df_val.genus.isin(df_train.genus)\n",
    "\n",
    "df_val_1hop = df_val[index_1hop]\n",
    "\n",
    "df_val_1hop.shape"
   ]
  },
  {
   "cell_type": "code",
   "execution_count": 35,
   "id": "c2393c22",
   "metadata": {},
   "outputs": [
    {
     "data": {
      "text/plain": [
       "(286, 8)"
      ]
     },
     "execution_count": 35,
     "metadata": {},
     "output_type": "execute_result"
    }
   ],
   "source": [
    "index_2hop = df_val.family.isin(df_train.family) & ~df_val.genus.isin(df_train.genus)\n",
    "\n",
    "df_val_2hop = df_val[index_2hop]\n",
    "\n",
    "df_val_2hop.shape"
   ]
  },
  {
   "cell_type": "code",
   "execution_count": 36,
   "id": "c2393c22",
   "metadata": {},
   "outputs": [
    {
     "data": {
      "text/plain": [
       "(158, 8)"
      ]
     },
     "execution_count": 36,
     "metadata": {},
     "output_type": "execute_result"
    }
   ],
   "source": [
    "index_3hop = df_val.order.isin(df_train.order) & ~df_val.family.isin(df_train.family)\n",
    "\n",
    "df_val_3hop = df_val[index_3hop]\n",
    "\n",
    "df_val_3hop.shape"
   ]
  },
  {
   "cell_type": "code",
   "execution_count": 37,
   "id": "c2393c22",
   "metadata": {},
   "outputs": [
    {
     "data": {
      "text/plain": [
       "(124, 8)"
      ]
     },
     "execution_count": 37,
     "metadata": {},
     "output_type": "execute_result"
    }
   ],
   "source": [
    "index_4hop = ~df_val.order.isin(df_train.order)\n",
    "\n",
    "df_val_4hop = df_val[index_4hop]\n",
    "\n",
    "df_val_4hop.shape"
   ]
  },
  {
   "cell_type": "code",
   "execution_count": 39,
   "id": "4e2e1033",
   "metadata": {},
   "outputs": [],
   "source": [
    "val_sets = {'train':df_train,\n",
    "            'val_seen':df_train,\n",
    "            'val allhop':df_val,\n",
    "            'val 1hop':df_val_1hop,\n",
    "            'val 2hop':df_val_2hop,\n",
    "            'val 3hop':df_val_3hop,\n",
    "            'val 4hop':df_val_4hop,}\n",
    "\n",
    "\n",
    "is_overwrite = False\n",
    "import pickle\n",
    "\n",
    "file = DATAPATH+'/2021/zsl_splits/all_splits.pickle'\n",
    "if is_overwrite:\n",
    "    with open(file, 'wb') as handle:\n",
    "        pickle.dump(val_sets, handle, protocol=pickle.HIGHEST_PROTOCOL)\n",
    "else:\n",
    "    with open(file, 'rb') as handle:\n",
    "        val_sets = pickle.load(handle)\n"
   ]
  },
  {
   "cell_type": "code",
   "execution_count": 40,
   "id": "b8788839",
   "metadata": {},
   "outputs": [],
   "source": [
    "\n",
    "\n",
    "df_train = val_sets['train']\n",
    "\n",
    "list_out = []\n",
    "for key, val in val_sets.items():\n",
    "    \n",
    "    list_ = list(val['sci_name'])\n",
    "    \n",
    "    dset_zsl = [x for x  in  train_subset if get_sciname(x['file_name']) in list_]\n",
    "    n1 = len(dset_zsl)\n",
    "    # else:\n",
    "    dset_zsl = [x for x  in  val_subset if get_sciname(x['file_name']) in list_]\n",
    "    n2 = len(dset_zsl)\n",
    "    n3 = n1 if key == 'train' else n2\n",
    "        \n",
    "    # print( f' {key} n sci_name = {val.shape[0]} , n_images = {n1 + n2}')\n",
    "\n",
    "    list_out.append({'Set':key,\n",
    "        #  'n1':n1,'n2':n2,'n1+n2':n1+n2,\n",
    "        'n_samples':n3})\n",
    "    for level in ['order','family','genus','sci_name']:\n",
    "        index_ = val[level].drop_duplicates().isin(df_train[level])\n",
    "        list_out[-1][level+'_train'] = index_.sum()\n",
    "        list_out[-1][level] = index_.shape[0]\n",
    "        # print(f'\\t {level} in train {index_.sum()} ({index_.mean():.1%})')\n",
    "\n",
    "\n"
   ]
  },
  {
   "cell_type": "code",
   "execution_count": 41,
   "id": "cdb95401",
   "metadata": {},
   "outputs": [
    {
     "data": {
      "text/plain": [
       "'\\\\begin{tabular}{lrr}\\n\\\\toprule\\n{} & n\\\\_samples & sci\\\\_name \\\\\\\\\\nSet        &           &          \\\\\\\\\\n\\\\midrule\\ntrain      &   211,027 &      749 \\\\\\\\\\nval\\\\_seen   &     7,490 &      749 \\\\\\\\\\nval allhop &     7,360 &      736 \\\\\\\\\\nval 1hop   &     1,680 &      168 \\\\\\\\\\nval 2hop   &     2,860 &      286 \\\\\\\\\\nval 3hop   &     1,580 &      158 \\\\\\\\\\nval 4hop   &     1,240 &      124 \\\\\\\\\\n\\\\bottomrule\\n\\\\end{tabular}\\n'"
      ]
     },
     "execution_count": 41,
     "metadata": {},
     "output_type": "execute_result"
    }
   ],
   "source": [
    "df_summary_21 = pd.DataFrame(list_out).set_index('Set')\n",
    "def use_f_2(x):\n",
    "    return f'{x:,.0f}'\n",
    "\n",
    "# df.to_latex(formatters=[None, use_f_2, use_f_2])\n",
    "\n",
    "df_summary_21[['n_samples','sci_name']].to_latex(\n",
    "        # 'tables/inat21_splits.tex',\n",
    "        # float_format=\"{:0.2f}\".format\n",
    "        formatters=[use_f_2,use_f_2]\n",
    "        )"
   ]
  },
  {
   "cell_type": "code",
   "execution_count": 204,
   "id": "f0016483",
   "metadata": {},
   "outputs": [],
   "source": [
    "save_dir = DATAPATH+'/2021/zsl_splits/'\n",
    "\n",
    "is_overwrite = False\n",
    "if is_overwrite:\n",
    "    df_train['sci_name'].to_csv(save_dir + \"seen_classes.txt\", index = False,header=False)\n",
    "    df_val['sci_name'].to_csv(save_dir + \"unseen_allhop_classes.txt\", index = False,header=False)\n",
    "    df_val_1hop['sci_name'].to_csv(save_dir + \"unseen_1hop_classes.txt\", index = False,header=False)\n",
    "    df_val_2hop['sci_name'].to_csv(save_dir + \"unseen_2hop_classes.txt\", index = False,header=False)\n",
    "    df_val_3hop['sci_name'].to_csv(save_dir + \"unseen_3hop_classes.txt\", index = False,header=False)\n",
    "    df_val_4hop['sci_name'].to_csv(save_dir + \"unseen_4hop_classes.txt\", index = False,header=False)\n",
    "    df2['sci_name'].to_csv(save_dir + \"all_classes.txt\", index = False,header=False)"
   ]
  },
  {
   "cell_type": "code",
   "execution_count": 42,
   "id": "1bb592d4",
   "metadata": {},
   "outputs": [
    {
     "data": {
      "text/html": [
       "<div>\n",
       "<style scoped>\n",
       "    .dataframe tbody tr th:only-of-type {\n",
       "        vertical-align: middle;\n",
       "    }\n",
       "\n",
       "    .dataframe tbody tr th {\n",
       "        vertical-align: top;\n",
       "    }\n",
       "\n",
       "    .dataframe thead th {\n",
       "        text-align: right;\n",
       "    }\n",
       "</style>\n",
       "<table border=\"1\" class=\"dataframe\">\n",
       "  <thead>\n",
       "    <tr style=\"text-align: right;\">\n",
       "      <th></th>\n",
       "      <th>n_samples</th>\n",
       "      <th>order_train</th>\n",
       "      <th>order</th>\n",
       "      <th>family_train</th>\n",
       "      <th>family</th>\n",
       "      <th>genus_train</th>\n",
       "      <th>genus</th>\n",
       "      <th>sci_name_train</th>\n",
       "      <th>sci_name</th>\n",
       "    </tr>\n",
       "    <tr>\n",
       "      <th>Set</th>\n",
       "      <th></th>\n",
       "      <th></th>\n",
       "      <th></th>\n",
       "      <th></th>\n",
       "      <th></th>\n",
       "      <th></th>\n",
       "      <th></th>\n",
       "      <th></th>\n",
       "      <th></th>\n",
       "    </tr>\n",
       "  </thead>\n",
       "  <tbody>\n",
       "    <tr>\n",
       "      <th>train</th>\n",
       "      <td>97067</td>\n",
       "      <td>13</td>\n",
       "      <td>13</td>\n",
       "      <td>44</td>\n",
       "      <td>44</td>\n",
       "      <td>132</td>\n",
       "      <td>132</td>\n",
       "      <td>381</td>\n",
       "      <td>381</td>\n",
       "    </tr>\n",
       "    <tr>\n",
       "      <th>val_seen</th>\n",
       "      <td>8626</td>\n",
       "      <td>13</td>\n",
       "      <td>13</td>\n",
       "      <td>44</td>\n",
       "      <td>44</td>\n",
       "      <td>132</td>\n",
       "      <td>132</td>\n",
       "      <td>381</td>\n",
       "      <td>381</td>\n",
       "    </tr>\n",
       "    <tr>\n",
       "      <th>val allhop</th>\n",
       "      <td>11073</td>\n",
       "      <td>13</td>\n",
       "      <td>30</td>\n",
       "      <td>43</td>\n",
       "      <td>114</td>\n",
       "      <td>60</td>\n",
       "      <td>363</td>\n",
       "      <td>0</td>\n",
       "      <td>514</td>\n",
       "    </tr>\n",
       "    <tr>\n",
       "      <th>val 1hop</th>\n",
       "      <td>2204</td>\n",
       "      <td>11</td>\n",
       "      <td>11</td>\n",
       "      <td>30</td>\n",
       "      <td>30</td>\n",
       "      <td>60</td>\n",
       "      <td>60</td>\n",
       "      <td>0</td>\n",
       "      <td>87</td>\n",
       "    </tr>\n",
       "    <tr>\n",
       "      <th>val 2hop</th>\n",
       "      <td>3613</td>\n",
       "      <td>13</td>\n",
       "      <td>13</td>\n",
       "      <td>40</td>\n",
       "      <td>40</td>\n",
       "      <td>0</td>\n",
       "      <td>172</td>\n",
       "      <td>0</td>\n",
       "      <td>177</td>\n",
       "    </tr>\n",
       "    <tr>\n",
       "      <th>val 3hop</th>\n",
       "      <td>2175</td>\n",
       "      <td>12</td>\n",
       "      <td>12</td>\n",
       "      <td>0</td>\n",
       "      <td>53</td>\n",
       "      <td>0</td>\n",
       "      <td>64</td>\n",
       "      <td>0</td>\n",
       "      <td>110</td>\n",
       "    </tr>\n",
       "    <tr>\n",
       "      <th>val 4hop</th>\n",
       "      <td>3081</td>\n",
       "      <td>0</td>\n",
       "      <td>17</td>\n",
       "      <td>0</td>\n",
       "      <td>18</td>\n",
       "      <td>0</td>\n",
       "      <td>67</td>\n",
       "      <td>0</td>\n",
       "      <td>140</td>\n",
       "    </tr>\n",
       "  </tbody>\n",
       "</table>\n",
       "</div>"
      ],
      "text/plain": [
       "            n_samples  order_train  order  family_train  family  genus_train  \\\n",
       "Set                                                                            \n",
       "train           97067           13     13            44      44          132   \n",
       "val_seen         8626           13     13            44      44          132   \n",
       "val allhop      11073           13     30            43     114           60   \n",
       "val 1hop         2204           11     11            30      30           60   \n",
       "val 2hop         3613           13     13            40      40            0   \n",
       "val 3hop         2175           12     12             0      53            0   \n",
       "val 4hop         3081            0     17             0      18            0   \n",
       "\n",
       "            genus  sci_name_train  sci_name  \n",
       "Set                                          \n",
       "train         132             381       381  \n",
       "val_seen      132             381       381  \n",
       "val allhop    363               0       514  \n",
       "val 1hop       60               0        87  \n",
       "val 2hop      172               0       177  \n",
       "val 3hop       64               0       110  \n",
       "val 4hop       67               0       140  "
      ]
     },
     "execution_count": 42,
     "metadata": {},
     "output_type": "execute_result"
    }
   ],
   "source": [
    "df_summary_17"
   ]
  },
  {
   "cell_type": "code",
   "execution_count": 43,
   "id": "ee30d22e",
   "metadata": {},
   "outputs": [],
   "source": [
    "df_summary_17['Year'] = 2017\n",
    "df_summary_21['Year'] = 2021"
   ]
  },
  {
   "cell_type": "code",
   "execution_count": 68,
   "id": "f0388228",
   "metadata": {},
   "outputs": [],
   "source": [
    "df_summary = pd.concat((df_summary_17,df_summary_21))"
   ]
  },
  {
   "cell_type": "code",
   "execution_count": 69,
   "id": "ef83407b",
   "metadata": {},
   "outputs": [
    {
     "data": {
      "text/plain": [
       "(Index(['train', 'val_seen', 'val allhop', 'val 1hop', 'val 2hop', 'val 3hop',\n",
       "        'val 4hop', 'train', 'val_seen', 'val allhop', 'val 1hop', 'val 2hop',\n",
       "        'val 3hop', 'val 4hop'],\n",
       "       dtype='object', name='Set'),\n",
       " Index(['n_samples', 'order_train', 'order', 'family_train', 'family',\n",
       "        'genus_train', 'genus', 'sci_name_train', 'sci_name', 'Year'],\n",
       "       dtype='object'))"
      ]
     },
     "execution_count": 69,
     "metadata": {},
     "output_type": "execute_result"
    }
   ],
   "source": [
    "df_summary.index, df_summary.columns"
   ]
  },
  {
   "cell_type": "code",
   "execution_count": 71,
   "id": "3f8d1f37",
   "metadata": {},
   "outputs": [
    {
     "data": {
      "text/html": [
       "<div>\n",
       "<style scoped>\n",
       "    .dataframe tbody tr th:only-of-type {\n",
       "        vertical-align: middle;\n",
       "    }\n",
       "\n",
       "    .dataframe tbody tr th {\n",
       "        vertical-align: top;\n",
       "    }\n",
       "\n",
       "    .dataframe thead tr th {\n",
       "        text-align: left;\n",
       "    }\n",
       "\n",
       "    .dataframe thead tr:last-of-type th {\n",
       "        text-align: right;\n",
       "    }\n",
       "</style>\n",
       "<table border=\"1\" class=\"dataframe\">\n",
       "  <thead>\n",
       "    <tr>\n",
       "      <th>Set</th>\n",
       "      <th colspan=\"2\" halign=\"left\">train</th>\n",
       "      <th colspan=\"2\" halign=\"left\">val 1hop</th>\n",
       "      <th colspan=\"2\" halign=\"left\">val 2hop</th>\n",
       "      <th colspan=\"2\" halign=\"left\">val 3hop</th>\n",
       "      <th colspan=\"2\" halign=\"left\">val 4hop</th>\n",
       "      <th colspan=\"2\" halign=\"left\">val allhop</th>\n",
       "      <th colspan=\"2\" halign=\"left\">val_seen</th>\n",
       "    </tr>\n",
       "    <tr>\n",
       "      <th></th>\n",
       "      <th>n_samples</th>\n",
       "      <th>sci_name</th>\n",
       "      <th>n_samples</th>\n",
       "      <th>sci_name</th>\n",
       "      <th>n_samples</th>\n",
       "      <th>sci_name</th>\n",
       "      <th>n_samples</th>\n",
       "      <th>sci_name</th>\n",
       "      <th>n_samples</th>\n",
       "      <th>sci_name</th>\n",
       "      <th>n_samples</th>\n",
       "      <th>sci_name</th>\n",
       "      <th>n_samples</th>\n",
       "      <th>sci_name</th>\n",
       "    </tr>\n",
       "    <tr>\n",
       "      <th>Year</th>\n",
       "      <th></th>\n",
       "      <th></th>\n",
       "      <th></th>\n",
       "      <th></th>\n",
       "      <th></th>\n",
       "      <th></th>\n",
       "      <th></th>\n",
       "      <th></th>\n",
       "      <th></th>\n",
       "      <th></th>\n",
       "      <th></th>\n",
       "      <th></th>\n",
       "      <th></th>\n",
       "      <th></th>\n",
       "    </tr>\n",
       "  </thead>\n",
       "  <tbody>\n",
       "    <tr>\n",
       "      <th>2017</th>\n",
       "      <td>97067</td>\n",
       "      <td>381</td>\n",
       "      <td>2204</td>\n",
       "      <td>87</td>\n",
       "      <td>3613</td>\n",
       "      <td>177</td>\n",
       "      <td>2175</td>\n",
       "      <td>110</td>\n",
       "      <td>3081</td>\n",
       "      <td>140</td>\n",
       "      <td>11073</td>\n",
       "      <td>514</td>\n",
       "      <td>8626</td>\n",
       "      <td>381</td>\n",
       "    </tr>\n",
       "    <tr>\n",
       "      <th>2021</th>\n",
       "      <td>211027</td>\n",
       "      <td>749</td>\n",
       "      <td>1680</td>\n",
       "      <td>168</td>\n",
       "      <td>2860</td>\n",
       "      <td>286</td>\n",
       "      <td>1580</td>\n",
       "      <td>158</td>\n",
       "      <td>1240</td>\n",
       "      <td>124</td>\n",
       "      <td>7360</td>\n",
       "      <td>736</td>\n",
       "      <td>7490</td>\n",
       "      <td>749</td>\n",
       "    </tr>\n",
       "  </tbody>\n",
       "</table>\n",
       "</div>"
      ],
      "text/plain": [
       "Set      train           val 1hop           val 2hop           val 3hop  \\\n",
       "     n_samples sci_name n_samples sci_name n_samples sci_name n_samples   \n",
       "Year                                                                      \n",
       "2017     97067      381      2204       87      3613      177      2175   \n",
       "2021    211027      749      1680      168      2860      286      1580   \n",
       "\n",
       "Set            val 4hop          val allhop           val_seen           \n",
       "     sci_name n_samples sci_name  n_samples sci_name n_samples sci_name  \n",
       "Year                                                                     \n",
       "2017      110      3081      140      11073      514      8626      381  \n",
       "2021      158      1240      124       7360      736      7490      749  "
      ]
     },
     "execution_count": 71,
     "metadata": {},
     "output_type": "execute_result"
    }
   ],
   "source": [
    "df_out = df_summary.reset_index().set_index(['Set','Year'])[['n_samples','sci_name']].unstack(1)[[('n_samples', 2017),\n",
    "            ( 'sci_name', 2017),\n",
    "            ('n_samples', 2021),\n",
    "            ( 'sci_name', 2021)]].swaplevel(axis=1)\n",
    "df_out.stack().T"
   ]
  },
  {
   "cell_type": "code",
   "execution_count": 75,
   "id": "89b8adfe",
   "metadata": {},
   "outputs": [
    {
     "data": {
      "text/plain": [
       "'\\\\begin{tabular}{lrrrrrrrrrrrrrr}\\n\\\\toprule\\nSet & \\\\multicolumn{2}{l}{train} & \\\\multicolumn{2}{l}{val 1hop} & \\\\multicolumn{2}{l}{val 2hop} & \\\\multicolumn{2}{l}{val 3hop} & \\\\multicolumn{2}{l}{val 4hop} & \\\\multicolumn{2}{l}{val allhop} & \\\\multicolumn{2}{l}{val\\\\_seen} \\\\\\\\\\n{} & n\\\\_samples & sci\\\\_name & n\\\\_samples & sci\\\\_name & n\\\\_samples & sci\\\\_name & n\\\\_samples & sci\\\\_name & n\\\\_samples & sci\\\\_name &  n\\\\_samples & sci\\\\_name & n\\\\_samples & sci\\\\_name \\\\\\\\\\nYear &           &          &           &          &           &          &           &          &           &          &            &          &           &          \\\\\\\\\\n\\\\midrule\\n2017 &     97067 &      381 &      2204 &       87 &      3613 &      177 &      2175 &      110 &      3081 &      140 &      11073 &      514 &      8626 &      381 \\\\\\\\\\n2021 &    211027 &      749 &      1680 &      168 &      2860 &      286 &      1580 &      158 &      1240 &      124 &       7360 &      736 &      7490 &      749 \\\\\\\\\\n\\\\bottomrule\\n\\\\end{tabular}\\n'"
      ]
     },
     "execution_count": 75,
     "metadata": {},
     "output_type": "execute_result"
    }
   ],
   "source": [
    "df_out.stack().T.to_latex(\n",
    "        # 'tables/inat_splits.T.tex',\n",
    "        # formatters=4*[use_f_2]\n",
    "        )\n",
    "\n"
   ]
  }
 ],
 "metadata": {
  "kernelspec": {
   "display_name": "Python 3.10.4 64-bit",
   "language": "python",
   "name": "python3"
  },
  "language_info": {
   "codemirror_mode": {
    "name": "ipython",
    "version": 3
   },
   "file_extension": ".py",
   "mimetype": "text/x-python",
   "name": "python",
   "nbconvert_exporter": "python",
   "pygments_lexer": "ipython3",
   "version": "3.10.4"
  },
  "vscode": {
   "interpreter": {
    "hash": "e7370f93d1d0cde622a1f8e1c04877d8463912d04d973331ad4851f04de6915a"
   }
  }
 },
 "nbformat": 4,
 "nbformat_minor": 5
}
