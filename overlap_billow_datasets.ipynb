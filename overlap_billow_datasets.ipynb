{
 "cells": [
  {
   "cell_type": "code",
   "execution_count": null,
   "id": "4fae4bba",
   "metadata": {},
   "outputs": [],
   "source": [
    "%matplotlib inline\n",
    "from matplotlib import pyplot as plt\n",
    "import numpy as np\n",
    "import scipy.io as sio\n",
    "import csv\n",
    "import pandas as pd"
   ]
  },
  {
   "cell_type": "code",
   "execution_count": null,
   "id": "709c8f03",
   "metadata": {},
   "outputs": [],
   "source": [
    "filename = 'species_list.csv'\n",
    "\n",
    "BASEPATH = '/scratch/'\n",
    "BASEPATH = '/home/pf/pfstaff/projects/andresro/infusion/'\n",
    "\n",
    "\n",
    "df_species = pd.read_csv(filename, index_col=0)\n",
    "\n",
    "print(df_species.shape)"
   ]
  },
  {
   "cell_type": "code",
   "execution_count": null,
   "id": "b40cf8b4",
   "metadata": {},
   "outputs": [],
   "source": [
    "df_species.head(10)"
   ]
  },
  {
   "cell_type": "markdown",
   "id": "3a851398",
   "metadata": {},
   "source": [
    "## CUB 200 classes"
   ]
  },
  {
   "cell_type": "code",
   "execution_count": null,
   "id": "7593daa8",
   "metadata": {},
   "outputs": [],
   "source": [
    "classes_file = 'classes_taxonomy_CUB.csv'\n",
    "\n",
    "\n",
    "with open(classes_file) as f:\n",
    "    spamreader = csv.reader(f, delimiter=' ')\n",
    "    names_cub = {int(x[0]):(x[2],x[3]) for x in spamreader}\n",
    "\n",
    "df_cub = pd.DataFrame.from_dict(names_cub,orient='index')\n",
    "\n",
    "df_cub.columns = ['comm_name','sci_name']\n",
    "df_cub.head()\n"
   ]
  },
  {
   "cell_type": "code",
   "execution_count": null,
   "id": "0fa0187d",
   "metadata": {},
   "outputs": [],
   "source": [
    "df1 = df_species[df_species.sci_name.isin(df_cub['sci_name'])]\n",
    "print(df1.shape)\n",
    "# sci_names_inat = list(df1.sci_name)\n"
   ]
  },
  {
   "cell_type": "code",
   "execution_count": null,
   "id": "22b4e6f8",
   "metadata": {},
   "outputs": [],
   "source": [
    "list_species = list(df_species.sci_name)\n",
    "\n",
    "for i,name in df_cub.iterrows():\n",
    "    if not name['sci_name'] in list_species:\n",
    "        print(i, name['sci_name'])"
   ]
  },
  {
   "cell_type": "markdown",
   "id": "253d8928",
   "metadata": {},
   "source": [
    "### Classes from embedding paper"
   ]
  },
  {
   "cell_type": "code",
   "execution_count": null,
   "id": "b2368ba1",
   "metadata": {},
   "outputs": [],
   "source": [
    "\n",
    "classes_file = 'classes_wikispecies_AR.txt'\n",
    "\n",
    "with open(classes_file) as f:\n",
    "    spamreader = csv.reader(f, delimiter=' ')\n",
    "    names_cub1 = {int(x[0]):' '.join(x[1:]) for x in spamreader}\n"
   ]
  },
  {
   "cell_type": "code",
   "execution_count": null,
   "id": "6d897cb1",
   "metadata": {},
   "outputs": [],
   "source": [
    "len(names_cub1)"
   ]
  },
  {
   "cell_type": "code",
   "execution_count": null,
   "id": "13a8d7fe",
   "metadata": {},
   "outputs": [],
   "source": [
    "list_species = list(df_species.sci_name)\n",
    "\n",
    "for i,name in names_cub1.items():\n",
    "    if not name in list_species:\n",
    "        print(i, name)"
   ]
  },
  {
   "cell_type": "code",
   "execution_count": null,
   "id": "ab92c88c",
   "metadata": {},
   "outputs": [],
   "source": [
    "for i, row in df_cub.iterrows():\n",
    "    if row['sci_name'] != names_cub1[i]:\n",
    "        print(i, row['sci_name'],' - ', names_cub1[i])"
   ]
  },
  {
   "cell_type": "code",
   "execution_count": null,
   "id": "13bd0a73",
   "metadata": {},
   "outputs": [],
   "source": [
    "#### Inconsistencies\n",
    "\n",
    "## 44: Fregata not 1-1 mapping\n",
    "## 91: mocking bird is genus not species many mappings could be used\n",
    "## 92: Nighthawk is genus not species many mappings could be used\n",
    "## 101: white pelican could be pelecanus onocrotalus or pelecanus erythrorhynchos\n",
    "\n",
    "\n",
    "#### additions & Corrections\n",
    "# 130: american tree sparrow instead of eurasian tree sparrow\n",
    "\n",
    "list_additions_cub1 = [17, 62, 130, 137, 171 ]"
   ]
  },
  {
   "cell_type": "code",
   "execution_count": null,
   "id": "59237044",
   "metadata": {},
   "outputs": [],
   "source": [
    "df1 = df_species[df_species.sci_name.isin(names_cub.values())]\n",
    "print(df1.shape)\n",
    "# sci_names_inat = list(df1.sci_name)\n"
   ]
  },
  {
   "cell_type": "markdown",
   "id": "673a6e18",
   "metadata": {},
   "source": [
    "### Comparison with DNA Paper"
   ]
  },
  {
   "cell_type": "code",
   "execution_count": null,
   "id": "044b7612",
   "metadata": {},
   "outputs": [],
   "source": [
    "data_mat = sio.loadmat(BASEPATH+'/CUB/CUB_dna/CUB_names_conversion.mat', squeeze_me=True)"
   ]
  },
  {
   "cell_type": "code",
   "execution_count": null,
   "id": "dc1f1666",
   "metadata": {},
   "outputs": [],
   "source": [
    "names_cub2 = dict()\n",
    "for row in data_mat['cub_names']:\n",
    "    cls_, row1  = row.split(': ')\n",
    "    comm_name, sci_name = row1.split(' --> ')\n",
    "    comm_name = comm_name.replace(' ','_')\n",
    "    sci_name = sci_name.strip()\n",
    "    names_cub2[int(cls_)] = (comm_name, sci_name)\n"
   ]
  },
  {
   "cell_type": "code",
   "execution_count": null,
   "id": "1e4fe12d",
   "metadata": {},
   "outputs": [],
   "source": [
    "df_cub2 = pd.DataFrame.from_dict(names_cub2,orient='index')\n",
    "\n",
    "df_cub2.columns = ['comm_name','sci_name']\n",
    "# df_cub2"
   ]
  },
  {
   "cell_type": "code",
   "execution_count": null,
   "id": "23689533",
   "metadata": {},
   "outputs": [],
   "source": [
    "import scipy.io as sio\n",
    "\n",
    "data_mat = sio.loadmat(BASEPATH+'/CUB/CUB_dna/att_splits.mat', squeeze_me=True)\n",
    "\n",
    "data_mat.keys()"
   ]
  },
  {
   "cell_type": "code",
   "execution_count": null,
   "id": "135b61e1",
   "metadata": {},
   "outputs": [],
   "source": [
    "\n",
    "reorder_list = []\n",
    "\n",
    "for i1, x in enumerate(data_mat['allclasses_names']):\n",
    "    x = x.split('.')[0]\n",
    "    # reorder_list.append((i1, int(x)))\n",
    "    reorder_list.append(int(x))\n",
    "len(reorder_list)\n",
    "\n",
    "## missing classes from DNA (filename_class)\n",
    "[x for x in range(200) if x not in reorder_list]\n",
    "    "
   ]
  },
  {
   "cell_type": "code",
   "execution_count": null,
   "id": "a10c98f9",
   "metadata": {},
   "outputs": [],
   "source": [
    "for i, row in df_cub.iterrows():\n",
    "    i_cub2 = list(df_cub2['comm_name']).index(row['comm_name'])\n",
    "    if row['sci_name'] != df_cub2.loc[i_cub2]['sci_name']:\n",
    "        a = row['sci_name'] if row['sci_name'] != '' else '-'\n",
    "        print(i,'\\t', a,'\\t', i_cub2,'\\t',df_cub2.loc[i_cub2]['sci_name'])"
   ]
  },
  {
   "cell_type": "code",
   "execution_count": null,
   "id": "4a5e3864",
   "metadata": {},
   "outputs": [],
   "source": [
    "\n",
    "\n",
    "\n",
    "#### additions & Corrections\n",
    "# list_additions_cub1 = [17, 62, 130, 137, 171 ]\n",
    "list_additions_cub2 = [44, 91, 92, 101, 103, 110]"
   ]
  },
  {
   "cell_type": "code",
   "execution_count": null,
   "id": "7ad09bd0",
   "metadata": {},
   "outputs": [],
   "source": [
    "for i in list_additions_cub2:\n",
    "    i_cub2 = list(df_cub2['comm_name']).index(df_cub.loc[i]['comm_name'])\n",
    "    # names_cub[i] = names_cub1[i]\n",
    "    df_cub.loc[i]['sci_name'] = df_cub2.loc[i_cub2]['sci_name']"
   ]
  },
  {
   "cell_type": "code",
   "execution_count": null,
   "id": "4b29b7e9",
   "metadata": {},
   "outputs": [],
   "source": [
    "list_species = list(df_species.sci_name)\n",
    "\n",
    "for i,name in df_cub.iterrows():\n",
    "    if not name['sci_name'] in list_species:\n",
    "        print(i, name['sci_name'])"
   ]
  },
  {
   "cell_type": "markdown",
   "id": "e1338f29",
   "metadata": {},
   "source": [
    "### Create merged version"
   ]
  },
  {
   "cell_type": "code",
   "execution_count": null,
   "id": "c23c6787",
   "metadata": {},
   "outputs": [],
   "source": [
    "is_overwrite = False\n",
    "\n",
    "if is_overwrite:\n",
    "    df_cub.to_csv(BASEPATH+'/birds/CUB/classes_wikispecies_AR.txt', header=False)\n",
    "else:\n",
    "    df_cub = pd.read_csv(BASEPATH+'/birds/CUB/classes_wikispecies_AR.txt',header=None, index_col=0, names =['comm_name','sci_name'])"
   ]
  },
  {
   "cell_type": "code",
   "execution_count": null,
   "id": "3c558f41",
   "metadata": {},
   "outputs": [],
   "source": [
    "list(df_cub.sci_name)"
   ]
  },
  {
   "cell_type": "code",
   "execution_count": null,
   "id": "6d850540",
   "metadata": {},
   "outputs": [],
   "source": [
    "df_cub.iloc[180]"
   ]
  },
  {
   "cell_type": "code",
   "execution_count": null,
   "id": "4ade6006",
   "metadata": {},
   "outputs": [],
   "source": [
    "df_cub17.tail(30)"
   ]
  },
  {
   "cell_type": "code",
   "execution_count": null,
   "id": "0f275b31",
   "metadata": {},
   "outputs": [],
   "source": [
    "df_cub.loc[df_cub17['orig_cls']]"
   ]
  },
  {
   "cell_type": "code",
   "execution_count": null,
   "id": "4a7b4e78",
   "metadata": {},
   "outputs": [],
   "source": [
    "df_cub17 = pd.read_csv(BASEPATH+'/birds/CUB/xlsa17/data/CUB/allclasses.txt',sep='.', header=None, names = ['orig_cls','comm_name'])\n",
    "print(df_cub17.shape)\n",
    "df_cub17.head(100)"
   ]
  },
  {
   "cell_type": "code",
   "execution_count": null,
   "id": "2176da19",
   "metadata": {},
   "outputs": [],
   "source": [
    "# names_cub = pd.read_csv(BASEPATH+'/birds/CUB/classes_wikispecies_AR.txt',header=None, index_col=0, names =['sci_name']).to_dict()['sci_name']\n",
    "# names_cub"
   ]
  },
  {
   "cell_type": "code",
   "execution_count": null,
   "id": "cd06699c",
   "metadata": {},
   "outputs": [],
   "source": [
    "list(df_cub17['orig_cls'].head(10))"
   ]
  },
  {
   "cell_type": "code",
   "execution_count": null,
   "id": "00870fc4",
   "metadata": {},
   "outputs": [],
   "source": [
    "is_overwrite = False\n",
    "\n",
    "if is_overwrite:\n",
    "    df_cub.loc[df_cub17['orig_cls']].to_csv(BASEPATH+'/birds/CUB/classes_wikispecies_AR_orderzsl.txt', header=False)"
   ]
  },
  {
   "cell_type": "code",
   "execution_count": null,
   "id": "a19a7494",
   "metadata": {},
   "outputs": [],
   "source": [
    "\n",
    "df_species = pd.read_csv(BASEPATH+'/andresro/birds/dataset/species_list.csv', index_col=0)\n",
    "list_species = list(df_species.sci_name)\n",
    "\n",
    "missing_species_billow = []\n",
    "\n",
    "list_species_cub = list(df_cub['sci_name'].loc[df_cub17['orig_cls']])\n",
    "for i,name in enumerate(list_species_cub):\n",
    "    if not name in list_species:\n",
    "        print(i, name)\n",
    "        missing_species_billow.append(i)\n",
    "\n",
    "print(missing_species_billow)\n",
    "\n",
    "df_cub17.loc[missing_species_billow]\n"
   ]
  },
  {
   "cell_type": "code",
   "execution_count": null,
   "id": "46d2f100",
   "metadata": {},
   "outputs": [],
   "source": [
    "df_cub.loc[df_cub17.loc[missing_species_billow]['orig_cls']]"
   ]
  },
  {
   "cell_type": "code",
   "execution_count": null,
   "id": "27d187ec",
   "metadata": {},
   "outputs": [],
   "source": [
    "is_overwrite = False\n",
    "if is_overwrite:\n",
    "    pd.DataFrame(missing_species_billow).to_csv(BASEPATH+'/birds/CUB/billow_missing_species_zsl_index.txt', index=False, header=False)\n",
    "else:\n",
    "    a = np.loadtxt(BASEPATH+'/birds/CUB/billow_missing_species_zsl_index.txt',dtype=int)"
   ]
  },
  {
   "cell_type": "code",
   "execution_count": null,
   "id": "b65c33bc",
   "metadata": {},
   "outputs": [],
   "source": [
    "a"
   ]
  },
  {
   "cell_type": "markdown",
   "id": "8b574e58",
   "metadata": {},
   "source": [
    "Create mapping from zsl order to DNA paper"
   ]
  },
  {
   "cell_type": "code",
   "execution_count": null,
   "id": "147e728d",
   "metadata": {},
   "outputs": [],
   "source": [
    "data_mat = sio.loadmat(BASEPATH+'/birds/CUB/CUB_dna/att_splits.mat', squeeze_me=True)\n",
    "\n",
    "reorder_df = dict()\n",
    "reorder_list = []\n",
    "for i1, x in enumerate(data_mat['allclasses_names']):\n",
    "    orig_cls, name  = x.split('.')\n",
    "    reorder_df[int(orig_cls)] = name\n",
    "\n",
    "    i_cub = list(df_cub17['comm_name']).index(name)\n",
    "    reorder_list.append(i_cub)\n",
    "\n",
    "\n",
    "reorder_df = pd.DataFrame.from_dict(reorder_df,orient='index')\n",
    "\n",
    "reorder_df.columns = ['comm_name']\n",
    "\n",
    "print(len(reorder_list))\n",
    "\n",
    "reorder_df.head()\n"
   ]
  },
  {
   "cell_type": "code",
   "execution_count": null,
   "id": "bc57e74e",
   "metadata": {},
   "outputs": [],
   "source": [
    "df_cub17.loc[reorder_list].head()"
   ]
  },
  {
   "cell_type": "code",
   "execution_count": null,
   "id": "cc88d040",
   "metadata": {},
   "outputs": [],
   "source": [
    "df_cub17.head()"
   ]
  },
  {
   "cell_type": "code",
   "execution_count": null,
   "id": "a19d81d7",
   "metadata": {},
   "outputs": [],
   "source": [
    "is_overwrite = False\n",
    "if is_overwrite:\n",
    "    pd.DataFrame(reorder_list).to_csv(BASEPATH+'/birds/CUB/zsl_dna_mapping.txt', index=False, header=False)\n",
    "    "
   ]
  },
  {
   "cell_type": "code",
   "execution_count": null,
   "id": "6db5b7f2",
   "metadata": {},
   "outputs": [],
   "source": [
    "df_cub17.iloc[reorder_list]"
   ]
  },
  {
   "cell_type": "code",
   "execution_count": null,
   "id": "fccb5e50",
   "metadata": {},
   "outputs": [],
   "source": [
    "missing_dna = [x for x in range(200) if x not in reorder_list]\n",
    "df_cub17.iloc[missing_dna]"
   ]
  },
  {
   "cell_type": "code",
   "execution_count": null,
   "id": "4507e3ca",
   "metadata": {},
   "outputs": [],
   "source": [
    "list(df_cub17.iloc[missing_dna]['comm_name'])\n"
   ]
  },
  {
   "cell_type": "code",
   "execution_count": null,
   "id": "63e299a9",
   "metadata": {},
   "outputs": [],
   "source": [
    "list(df_cub17.iloc[missing_species_billow]['comm_name'])"
   ]
  },
  {
   "cell_type": "code",
   "execution_count": null,
   "id": "a4c20c22",
   "metadata": {},
   "outputs": [],
   "source": [
    "missing_both = sorted(set(missing_dna).union(set(missing_species_billow)))\n",
    "\n",
    "missing_both\n",
    "\n",
    "is_overwrite = True\n",
    "if is_overwrite:\n",
    "    pd.DataFrame(missing_both).to_csv(BASEPATH+'/birds/CUB/dna_billow_missing_species_zsl_index.txt', index=False, header=False)\n",
    "else:\n",
    "    a = np.loadtxt(BASEPATH+'/birds/CUB/dna_billow_missing_species_zsl_index.txt',dtype=int)"
   ]
  },
  {
   "cell_type": "code",
   "execution_count": null,
   "id": "41f496e5",
   "metadata": {},
   "outputs": [],
   "source": [
    "reorder_list_dna_to_both = [x for x in reorder_list if x not in missing_both]"
   ]
  },
  {
   "cell_type": "code",
   "execution_count": null,
   "id": "f39faf2e",
   "metadata": {},
   "outputs": [],
   "source": [
    "missing_species_billow_dna_index = [i for (i,x) in enumerate(reorder_list) if x in missing_species_billow]"
   ]
  },
  {
   "cell_type": "code",
   "execution_count": null,
   "id": "1958cbf9",
   "metadata": {},
   "outputs": [],
   "source": [
    "np.array(reorder_list)[missing_species_billow_dna_index]"
   ]
  },
  {
   "cell_type": "code",
   "execution_count": null,
   "id": "09759691",
   "metadata": {},
   "outputs": [],
   "source": [
    "missing_species_billow_dna_index"
   ]
  },
  {
   "cell_type": "code",
   "execution_count": null,
   "id": "6b500e1d",
   "metadata": {},
   "outputs": [],
   "source": [
    "is_overwrite = False\n",
    "if is_overwrite:\n",
    "    pd.DataFrame(missing_species_billow_dna_index).to_csv(BASEPATH+'/birds/CUB/billow_missing_species_dna_index.txt', index=False, header=False)\n",
    "else:\n",
    "    a = np.loadtxt(BASEPATH+'/birds/CUB/billow_missing_species_dna_index.txt',dtype=int)"
   ]
  },
  {
   "cell_type": "code",
   "execution_count": null,
   "id": "05bcc4b6",
   "metadata": {},
   "outputs": [],
   "source": [
    "a"
   ]
  },
  {
   "cell_type": "markdown",
   "id": "022697a7",
   "metadata": {},
   "source": [
    "### Compare class embeddings"
   ]
  },
  {
   "cell_type": "code",
   "execution_count": null,
   "id": "9fc2ce01",
   "metadata": {},
   "outputs": [],
   "source": [
    "reorder_list = np.loadtxt(BASEPATH+'/birds/CUB/zsl_dna_mapping.txt',dtype=int)"
   ]
  },
  {
   "cell_type": "code",
   "execution_count": null,
   "id": "0f300044",
   "metadata": {},
   "outputs": [],
   "source": [
    "data_mat_dna = sio.loadmat(BASEPATH+'/birds/CUB/CUB_dna/att_splits.mat', squeeze_me=True)\n",
    "data_mat_sent = sio.loadmat(BASEPATH+'/birds/CUB/CE-GZSL/sent_splits.mat', squeeze_me=True)\n",
    "\n",
    "data_mat = sio.loadmat(BASEPATH+'/birds/CUB/CUB/att_splits.mat', squeeze_me=True)\n",
    "# data_mat = sio.loadmat(BASEPATH+'/birds/CUB/xlsa17/data/CUB/att_splits.mat', squeeze_me=True)\n",
    "\n",
    "\n",
    "# data_mat.keys()\n"
   ]
  },
  {
   "cell_type": "code",
   "execution_count": null,
   "id": "e3909b9c",
   "metadata": {},
   "outputs": [],
   "source": [
    "for i, data in enumerate([data_mat_dna,data_mat_sent,data_mat]):\n",
    "    print('\\n',i)\n",
    "\n",
    "    for key, val in data.items():\n",
    "        if isinstance(val, np.ndarray):\n",
    "            print(key, val.shape)"
   ]
  },
  {
   "cell_type": "code",
   "execution_count": null,
   "id": "e537bf10",
   "metadata": {},
   "outputs": [],
   "source": [
    "np.array_equal(data_mat_dna['allclasses_names'],data_mat['allclasses_names'][reorder_list])"
   ]
  },
  {
   "cell_type": "code",
   "execution_count": null,
   "id": "0a3b2937",
   "metadata": {},
   "outputs": [],
   "source": [
    "np.array_equal(data_mat_sent['allclasses_names'],data_mat['allclasses_names'])"
   ]
  },
  {
   "cell_type": "code",
   "execution_count": null,
   "id": "c83e5863",
   "metadata": {},
   "outputs": [],
   "source": [
    "np.array_equal(data_mat_dna['att'],data_mat['att'][:,reorder_list])"
   ]
  },
  {
   "cell_type": "code",
   "execution_count": null,
   "id": "463977e0",
   "metadata": {},
   "outputs": [],
   "source": [
    "np.array_equal(data_mat_dna['original_att'],data_mat['original_att'][:,reorder_list])"
   ]
  },
  {
   "cell_type": "code",
   "execution_count": null,
   "id": "098455da",
   "metadata": {},
   "outputs": [],
   "source": [
    "class_attribute = data_mat['att'].reshape(-1)\n",
    "_ = plt.hist(class_attribute)\n",
    "\n",
    "class_attribute.min(),class_attribute.mean(), np.median(class_attribute), class_attribute.max(), class_attribute.std()"
   ]
  },
  {
   "cell_type": "code",
   "execution_count": null,
   "id": "4e81c839",
   "metadata": {},
   "outputs": [],
   "source": [
    "class_attribute = data_mat['original_att'].reshape(-1) / (data_mat['original_att'].max()/0.2927)\n",
    "_ = plt.hist(class_attribute)\n",
    "\n",
    "class_attribute.min(),class_attribute.mean(), np.median(class_attribute), class_attribute.max(), class_attribute.std()"
   ]
  },
  {
   "cell_type": "code",
   "execution_count": null,
   "id": "a5192233",
   "metadata": {},
   "outputs": [],
   "source": [
    "class_attribute = data_mat_dna['att_dna'].reshape(-1)\n",
    "_ = plt.hist(class_attribute)\n",
    "\n",
    "class_attribute.min(),class_attribute.mean(), np.median(class_attribute), class_attribute.max(), class_attribute.std()"
   ]
  },
  {
   "cell_type": "code",
   "execution_count": null,
   "id": "f363db8f",
   "metadata": {},
   "outputs": [],
   "source": [
    "class_attribute = data_mat_dna['att_w2v'].reshape(-1)\n",
    "_ = plt.hist(class_attribute)\n",
    "\n",
    "class_attribute.min(),class_attribute.mean(), np.median(class_attribute), class_attribute.max(), class_attribute.std()"
   ]
  },
  {
   "cell_type": "code",
   "execution_count": null,
   "id": "6b1c9329",
   "metadata": {},
   "outputs": [],
   "source": [
    "data_mat_sent.keys()"
   ]
  },
  {
   "cell_type": "code",
   "execution_count": null,
   "id": "d08d23af",
   "metadata": {},
   "outputs": [],
   "source": [
    "class_attribute = data_mat_sent['att'].reshape(-1)\n",
    "_ = plt.hist(class_attribute)\n",
    "\n",
    "class_attribute.min(),class_attribute.mean(), np.median(class_attribute), class_attribute.max(), class_attribute.std()"
   ]
  },
  {
   "cell_type": "code",
   "execution_count": null,
   "id": "715ab054",
   "metadata": {},
   "outputs": [],
   "source": [
    "data_billow = np.load(BASEPATH+'/andresro/leon_work/birds/codes/BetaVAE_B_mid_genus_2048_1_0_version_1/cub/codes.npz')['tops']\n",
    "data_billow = data_billow.reshape(-1)\n",
    "class_attribute = (data_billow)\n",
    "# class_attribute = np.exp(data_billow)\n",
    "_ = plt.hist(class_attribute)\n",
    "\n",
    "class_attribute.min(),class_attribute.mean(), np.median(class_attribute), class_attribute.max(), class_attribute.std()\n"
   ]
  },
  {
   "cell_type": "code",
   "execution_count": null,
   "id": "ca54df33",
   "metadata": {},
   "outputs": [],
   "source": [
    "data_billow = np.load(BASEPATH+'/andresro/leon_work/birds/codes/BetaVAE_B_mid_genus_2048_1_0_version_1/cub/codes.npz')['tops']\n",
    "data_billow = data_billow.reshape(-1)\n",
    "class_attribute = (data_billow) / data_billow.max()\n",
    "# class_attribute = np.exp(data_billow)\n",
    "_ = plt.hist(class_attribute)\n",
    "\n",
    "class_attribute.min(),class_attribute.mean(), np.median(class_attribute), class_attribute.max(), class_attribute.std()\n"
   ]
  },
  {
   "cell_type": "code",
   "execution_count": null,
   "id": "f3a34ec9",
   "metadata": {},
   "outputs": [],
   "source": [
    "data_billow = np.load(BASEPATH+'/andresro/leon_work/birds/codes/BetaVAE_B_mid_genus_2048_1_0_version_1/cub/codes.npz')['tops']\n",
    "data_billow = data_billow / np.linalg.norm(data_billow,axis=-1)[:,np.newaxis]\n",
    "# data_billow = np.linalg.norm(data_billow,axis=-1)\n",
    "# data_billow = data_billow.reshape(-1)\n",
    "# class_attribute = data_billow / np.linalg.norm(data_billow,axis=-1)\n",
    "# class_attribute = np.exp(data_billow)\n",
    "class_attribute = data_billow.reshape(-1)\n",
    "_ = plt.hist(class_attribute)\n",
    "\n",
    "class_attribute.min(),class_attribute.mean(), np.median(class_attribute), class_attribute.max(), class_attribute.std()\n"
   ]
  },
  {
   "cell_type": "code",
   "execution_count": null,
   "id": "0a99417f",
   "metadata": {},
   "outputs": [],
   "source": [
    "data_billow = np.load(BASEPATH+'/andresro/leon_work/birds/codes/ResNet_mid_genus__1.0_1_version_3/cub/codes.npz')['tops']\n",
    "# data_billow = data_billow / np.linalg.norm(data_billow,axis=-1)[:,np.newaxis]\n",
    "\n",
    "# data_billow = np.linalg.norm(data_billow,axis=-1)\n",
    "# data_billow = data_billow.reshape(-1)\n",
    "# class_attribute = data_billow / np.linalg.norm(data_billow,axis=-1)\n",
    "# class_attribute = np.exp(data_billow)\n",
    "class_attribute = data_billow.reshape(-1)\n",
    "_ = plt.hist(class_attribute)\n",
    "\n",
    "class_attribute.min(),class_attribute.mean(), np.median(class_attribute), class_attribute.max(), class_attribute.std()\n"
   ]
  },
  {
   "cell_type": "code",
   "execution_count": null,
   "id": "df4720fa",
   "metadata": {},
   "outputs": [],
   "source": [
    "np.linalg.norm(data_billow,axis=-1).shape"
   ]
  },
  {
   "cell_type": "code",
   "execution_count": null,
   "id": "84beef02",
   "metadata": {},
   "outputs": [],
   "source": [
    "class_attribute.max(), data_billow.max()"
   ]
  },
  {
   "cell_type": "markdown",
   "id": "42baca2d",
   "metadata": {},
   "source": [
    "## iNaturalist 2017 classes"
   ]
  },
  {
   "cell_type": "code",
   "execution_count": null,
   "id": "070ff3dc",
   "metadata": {},
   "outputs": [],
   "source": [
    "import json"
   ]
  },
  {
   "cell_type": "code",
   "execution_count": null,
   "id": "4a13fc67",
   "metadata": {},
   "outputs": [],
   "source": [
    "val_file = BASEPATH+'/infusion/data/iNaturalist/2017/train_val2017/val2017.json'\n",
    "\n",
    "with open(val_file) as json_file:\n",
    "    val_annotations = json.load(json_file)"
   ]
  },
  {
   "cell_type": "code",
   "execution_count": null,
   "id": "ae8a88dd",
   "metadata": {},
   "outputs": [],
   "source": [
    "val_annotations.keys()"
   ]
  },
  {
   "cell_type": "code",
   "execution_count": null,
   "id": "4310293d",
   "metadata": {},
   "outputs": [],
   "source": [
    "names_inat = [x['name'] for x in val_annotations['categories'] if x['supercategory'] == 'Aves']"
   ]
  },
  {
   "cell_type": "code",
   "execution_count": null,
   "id": "f1aa6880",
   "metadata": {},
   "outputs": [],
   "source": [
    "len(names_inat)"
   ]
  },
  {
   "cell_type": "code",
   "execution_count": null,
   "id": "26b538a7",
   "metadata": {},
   "outputs": [],
   "source": [
    "df1 = df_species[df_species.sci_name.isin(names_inat)]\n",
    "print(df1.shape)\n",
    "sci_names_inat = list(df1.sci_name)\n"
   ]
  },
  {
   "cell_type": "markdown",
   "id": "81717eca",
   "metadata": {},
   "source": [
    "## iNaturalist 2021 classes"
   ]
  },
  {
   "cell_type": "code",
   "execution_count": null,
   "id": "fc8535a1",
   "metadata": {},
   "outputs": [],
   "source": [
    "import json"
   ]
  },
  {
   "cell_type": "code",
   "execution_count": null,
   "id": "b103823a",
   "metadata": {},
   "outputs": [],
   "source": [
    "val_file = BASEPATH+'/infusion/data/iNaturalist/2021/val.json'\n",
    "\n",
    "with open(val_file) as json_file:\n",
    "    val_annotations = json.load(json_file)"
   ]
  },
  {
   "cell_type": "code",
   "execution_count": null,
   "id": "dcee7aa6",
   "metadata": {},
   "outputs": [],
   "source": [
    "val_annotations.keys()"
   ]
  },
  {
   "cell_type": "code",
   "execution_count": null,
   "id": "5ef3a42c",
   "metadata": {},
   "outputs": [],
   "source": [
    "names_inat = [x['name'] for x in val_annotations['categories'] if x['supercategory'] == 'Birds']"
   ]
  },
  {
   "cell_type": "code",
   "execution_count": null,
   "id": "e32281be",
   "metadata": {},
   "outputs": [],
   "source": [
    "len(names_inat)"
   ]
  },
  {
   "cell_type": "code",
   "execution_count": null,
   "id": "caac5101",
   "metadata": {},
   "outputs": [],
   "source": [
    "df_species.columns"
   ]
  },
  {
   "cell_type": "code",
   "execution_count": null,
   "id": "5fc57dcf",
   "metadata": {},
   "outputs": [],
   "source": [
    "df1 = df_species[df_species.sci_name.isin(names_inat)]\n",
    "print(df1.shape)\n",
    "sci_names_inat = list(df1.sci_name)\n"
   ]
  }
 ],
 "metadata": {
  "interpreter": {
   "hash": "4a33045f567d412c323124e7cd136ce521dcc9e2e06b9e7899c81f90e5a83771"
  },
  "kernelspec": {
   "display_name": "Python 3.8.11 64-bit ('pytorch19': conda)",
   "name": "python3"
  },
  "language_info": {
   "codemirror_mode": {
    "name": "ipython",
    "version": 3
   },
   "file_extension": ".py",
   "mimetype": "text/x-python",
   "name": "python",
   "nbconvert_exporter": "python",
   "pygments_lexer": "ipython3",
   "version": "3.8.11"
  }
 },
 "nbformat": 4,
 "nbformat_minor": 5
}
